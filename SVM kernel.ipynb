{
 "cells": [
  {
   "cell_type": "code",
   "execution_count": 19,
   "id": "76514b36-bc17-451c-8e75-9265baad49d9",
   "metadata": {},
   "outputs": [],
   "source": [
    "import numpy as np\n",
    "import matplotlib.pyplot as plt"
   ]
  },
  {
   "cell_type": "code",
   "execution_count": 20,
   "id": "7dab4920-a008-416d-80c8-f2f6c561606e",
   "metadata": {},
   "outputs": [],
   "source": [
    "x=np.linspace(-8.0,8.0,100)\n",
    "y=np.sqrt(10**2-x**2)\n",
    "y=np.hstack([y,-y])\n",
    "x=np.hstack([x,-x])"
   ]
  },
  {
   "cell_type": "code",
   "execution_count": 21,
   "id": "f32b54b3-1513-4197-89d1-865ea679601c",
   "metadata": {},
   "outputs": [],
   "source": [
    "x1=np.linspace(-8.0,8.0,100)\n",
    "y1=np.sqrt(8**2 - x1**2)\n",
    "y1=np.hstack([y1,-y1])\n",
    "x1=np.hstack([x1, -x1])"
   ]
  },
  {
   "cell_type": "code",
   "execution_count": 22,
   "id": "3dc4dce6-9040-4b9e-9854-7a8224763995",
   "metadata": {},
   "outputs": [
    {
     "data": {
      "text/plain": [
       "<matplotlib.collections.PathCollection at 0x7f6472f50b80>"
      ]
     },
     "execution_count": 22,
     "metadata": {},
     "output_type": "execute_result"
    },
    {
     "data": {
      "image/png": "[encoded data removed]",
      "text/plain": [
       "<Figure size 640x480 with 1 Axes>"
      ]
     },
     "metadata": {},
     "output_type": "display_data"
    }
   ],
   "source": [
    "plt.scatter(y,x)\n",
    "plt.scatter(y1,x1)"
   ]
  },
  {
   "cell_type": "code",
   "execution_count": 23,
   "id": "78921f1a-db0d-49ed-8d29-745feb85acb2",
   "metadata": {},
   "outputs": [
    {
     "name": "stderr",
     "output_type": "stream",
     "text": [
      "/tmp/ipykernel_1563/270161726.py:6: FutureWarning:\n",
      "\n",
      "The frame.append method is deprecated and will be removed from pandas in a future version. Use pandas.concat instead.\n",
      "\n"
     ]
    },
    {
     "data": {
      "text/html": [
       "<div>\n",
       "<style scoped>\n",
       "    .dataframe tbody tr th:only-of-type {\n",
       "        vertical-align: middle;\n",
       "    }\n",
       "\n",
       "    .dataframe tbody tr th {\n",
       "        vertical-align: top;\n",
       "    }\n",
       "\n",
       "    .dataframe thead th {\n",
       "        text-align: right;\n",
       "    }\n",
       "</style>\n",
       "<table border=\"1\" class=\"dataframe\">\n",
       "  <thead>\n",
       "    <tr style=\"text-align: right;\">\n",
       "      <th></th>\n",
       "      <th>X1</th>\n",
       "      <th>X2</th>\n",
       "      <th>Y</th>\n",
       "    </tr>\n",
       "  </thead>\n",
       "  <tbody>\n",
       "    <tr>\n",
       "      <th>0</th>\n",
       "      <td>6.000000</td>\n",
       "      <td>-8.000000</td>\n",
       "      <td>0</td>\n",
       "    </tr>\n",
       "    <tr>\n",
       "      <th>1</th>\n",
       "      <td>6.209649</td>\n",
       "      <td>-7.838384</td>\n",
       "      <td>0</td>\n",
       "    </tr>\n",
       "    <tr>\n",
       "      <th>2</th>\n",
       "      <td>6.408372</td>\n",
       "      <td>-7.676768</td>\n",
       "      <td>0</td>\n",
       "    </tr>\n",
       "    <tr>\n",
       "      <th>3</th>\n",
       "      <td>6.597158</td>\n",
       "      <td>-7.515152</td>\n",
       "      <td>0</td>\n",
       "    </tr>\n",
       "    <tr>\n",
       "      <th>4</th>\n",
       "      <td>6.776837</td>\n",
       "      <td>-7.353535</td>\n",
       "      <td>0</td>\n",
       "    </tr>\n",
       "  </tbody>\n",
       "</table>\n",
       "</div>"
      ],
      "text/plain": [
       "         X1        X2  Y\n",
       "0  6.000000 -8.000000  0\n",
       "1  6.209649 -7.838384  0\n",
       "2  6.408372 -7.676768  0\n",
       "3  6.597158 -7.515152  0\n",
       "4  6.776837 -7.353535  0"
      ]
     },
     "execution_count": 23,
     "metadata": {},
     "output_type": "execute_result"
    }
   ],
   "source": [
    "import pandas as pd\n",
    "df1=pd.DataFrame(np.vstack([y,x]).T,columns=['X1','X2'])\n",
    "df1['Y']=0\n",
    "df2=pd.DataFrame(np.vstack([y1,x1]).T,columns=['X1','X2'])\n",
    "df2['Y']=1\n",
    "df=df1.append(df2)\n",
    "df.head(5)"
   ]
  },
  {
   "cell_type": "code",
   "execution_count": 24,
   "id": "3cbd5194-1eab-4994-83b5-3aa21c230976",
   "metadata": {},
   "outputs": [
    {
     "data": {
      "text/html": [
       "<div>\n",
       "<style scoped>\n",
       "    .dataframe tbody tr th:only-of-type {\n",
       "        vertical-align: middle;\n",
       "    }\n",
       "\n",
       "    .dataframe tbody tr th {\n",
       "        vertical-align: top;\n",
       "    }\n",
       "\n",
       "    .dataframe thead th {\n",
       "        text-align: right;\n",
       "    }\n",
       "</style>\n",
       "<table border=\"1\" class=\"dataframe\">\n",
       "  <thead>\n",
       "    <tr style=\"text-align: right;\">\n",
       "      <th></th>\n",
       "      <th>X1</th>\n",
       "      <th>X2</th>\n",
       "      <th>Y</th>\n",
       "    </tr>\n",
       "  </thead>\n",
       "  <tbody>\n",
       "    <tr>\n",
       "      <th>195</th>\n",
       "      <td>-3.150479</td>\n",
       "      <td>-7.353535</td>\n",
       "      <td>1</td>\n",
       "    </tr>\n",
       "    <tr>\n",
       "      <th>196</th>\n",
       "      <td>-2.742717</td>\n",
       "      <td>-7.515152</td>\n",
       "      <td>1</td>\n",
       "    </tr>\n",
       "    <tr>\n",
       "      <th>197</th>\n",
       "      <td>-2.251053</td>\n",
       "      <td>-7.676768</td>\n",
       "      <td>1</td>\n",
       "    </tr>\n",
       "    <tr>\n",
       "      <th>198</th>\n",
       "      <td>-1.599918</td>\n",
       "      <td>-7.838384</td>\n",
       "      <td>1</td>\n",
       "    </tr>\n",
       "    <tr>\n",
       "      <th>199</th>\n",
       "      <td>-0.000000</td>\n",
       "      <td>-8.000000</td>\n",
       "      <td>1</td>\n",
       "    </tr>\n",
       "  </tbody>\n",
       "</table>\n",
       "</div>"
      ],
      "text/plain": [
       "           X1        X2  Y\n",
       "195 -3.150479 -7.353535  1\n",
       "196 -2.742717 -7.515152  1\n",
       "197 -2.251053 -7.676768  1\n",
       "198 -1.599918 -7.838384  1\n",
       "199 -0.000000 -8.000000  1"
      ]
     },
     "execution_count": 24,
     "metadata": {},
     "output_type": "execute_result"
    }
   ],
   "source": [
    "df.tail(5)"
   ]
  },
  {
   "cell_type": "markdown",
   "id": "136e79b5-7e8c-4e97-ace0-e93a94adceb6",
   "metadata": {},
   "source": [
    "## Polynomial Kernel"
   ]
  },
  {
   "cell_type": "code",
   "execution_count": 25,
   "id": "3bdcab57-c906-4542-ba94-4c2f7d33c5c9",
   "metadata": {},
   "outputs": [
    {
     "data": {
      "text/html": [
       "<div>\n",
       "<style scoped>\n",
       "    .dataframe tbody tr th:only-of-type {\n",
       "        vertical-align: middle;\n",
       "    }\n",
       "\n",
       "    .dataframe tbody tr th {\n",
       "        vertical-align: top;\n",
       "    }\n",
       "\n",
       "    .dataframe thead th {\n",
       "        text-align: right;\n",
       "    }\n",
       "</style>\n",
       "<table border=\"1\" class=\"dataframe\">\n",
       "  <thead>\n",
       "    <tr style=\"text-align: right;\">\n",
       "      <th></th>\n",
       "      <th>X1</th>\n",
       "      <th>X2</th>\n",
       "      <th>Y</th>\n",
       "      <th>X1_square</th>\n",
       "      <th>X2_square</th>\n",
       "      <th>X1*X2</th>\n",
       "    </tr>\n",
       "  </thead>\n",
       "  <tbody>\n",
       "    <tr>\n",
       "      <th>0</th>\n",
       "      <td>6.000000</td>\n",
       "      <td>-8.000000</td>\n",
       "      <td>0</td>\n",
       "      <td>36.000000</td>\n",
       "      <td>64.000000</td>\n",
       "      <td>-48.000000</td>\n",
       "    </tr>\n",
       "    <tr>\n",
       "      <th>1</th>\n",
       "      <td>6.209649</td>\n",
       "      <td>-7.838384</td>\n",
       "      <td>0</td>\n",
       "      <td>38.559739</td>\n",
       "      <td>61.440261</td>\n",
       "      <td>-48.673611</td>\n",
       "    </tr>\n",
       "    <tr>\n",
       "      <th>2</th>\n",
       "      <td>6.408372</td>\n",
       "      <td>-7.676768</td>\n",
       "      <td>0</td>\n",
       "      <td>41.067238</td>\n",
       "      <td>58.932762</td>\n",
       "      <td>-49.195587</td>\n",
       "    </tr>\n",
       "    <tr>\n",
       "      <th>3</th>\n",
       "      <td>6.597158</td>\n",
       "      <td>-7.515152</td>\n",
       "      <td>0</td>\n",
       "      <td>43.522498</td>\n",
       "      <td>56.477502</td>\n",
       "      <td>-49.578644</td>\n",
       "    </tr>\n",
       "    <tr>\n",
       "      <th>4</th>\n",
       "      <td>6.776837</td>\n",
       "      <td>-7.353535</td>\n",
       "      <td>0</td>\n",
       "      <td>45.925518</td>\n",
       "      <td>54.074482</td>\n",
       "      <td>-49.833709</td>\n",
       "    </tr>\n",
       "  </tbody>\n",
       "</table>\n",
       "</div>"
      ],
      "text/plain": [
       "         X1        X2  Y  X1_square  X2_square      X1*X2\n",
       "0  6.000000 -8.000000  0  36.000000  64.000000 -48.000000\n",
       "1  6.209649 -7.838384  0  38.559739  61.440261 -48.673611\n",
       "2  6.408372 -7.676768  0  41.067238  58.932762 -49.195587\n",
       "3  6.597158 -7.515152  0  43.522498  56.477502 -49.578644\n",
       "4  6.776837 -7.353535  0  45.925518  54.074482 -49.833709"
      ]
     },
     "execution_count": 25,
     "metadata": {},
     "output_type": "execute_result"
    }
   ],
   "source": [
    "df['X1_square']=df['X1']**2\n",
    "df['X2_square']=df['X2']**2\n",
    "df['X1*X2']=df['X1']*df['X2']\n",
    "df.head()"
   ]
  },
  {
   "cell_type": "code",
   "execution_count": 34,
   "id": "76881e37-1e33-4831-96b6-21b27096dbef",
   "metadata": {},
   "outputs": [],
   "source": [
    "X=df[['X1_square','X2_square','X1*X2']]\n",
    "y=df.Y"
   ]
  },
  {
   "cell_type": "code",
   "execution_count": 35,
   "id": "ef7039c2-d63f-4319-827d-9aa6dd52fccc",
   "metadata": {},
   "outputs": [],
   "source": [
    "from sklearn.model_selection import train_test_split\n",
    "X_train,y_train,X_test,y_test=train_test_split(X,y,test_size=0.25,random_state=0)"
   ]
  },
  {
   "cell_type": "code",
   "execution_count": 36,
   "id": "7e782b81-ad0c-43f5-acb6-c503bf3d32ed",
   "metadata": {},
   "outputs": [
    {
     "data": {
      "text/html": [
       "<div>\n",
       "<style scoped>\n",
       "    .dataframe tbody tr th:only-of-type {\n",
       "        vertical-align: middle;\n",
       "    }\n",
       "\n",
       "    .dataframe tbody tr th {\n",
       "        vertical-align: top;\n",
       "    }\n",
       "\n",
       "    .dataframe thead th {\n",
       "        text-align: right;\n",
       "    }\n",
       "</style>\n",
       "<table border=\"1\" class=\"dataframe\">\n",
       "  <thead>\n",
       "    <tr style=\"text-align: right;\">\n",
       "      <th></th>\n",
       "      <th>X1_square</th>\n",
       "      <th>X2_square</th>\n",
       "      <th>X1*X2</th>\n",
       "    </tr>\n",
       "  </thead>\n",
       "  <tbody>\n",
       "    <tr>\n",
       "      <th>50</th>\n",
       "      <td>63.993470</td>\n",
       "      <td>0.006530</td>\n",
       "      <td>0.646432</td>\n",
       "    </tr>\n",
       "    <tr>\n",
       "      <th>63</th>\n",
       "      <td>95.239669</td>\n",
       "      <td>4.760331</td>\n",
       "      <td>21.292541</td>\n",
       "    </tr>\n",
       "    <tr>\n",
       "      <th>112</th>\n",
       "      <td>27.269054</td>\n",
       "      <td>36.730946</td>\n",
       "      <td>-31.648351</td>\n",
       "    </tr>\n",
       "    <tr>\n",
       "      <th>159</th>\n",
       "      <td>97.642690</td>\n",
       "      <td>2.357310</td>\n",
       "      <td>15.171491</td>\n",
       "    </tr>\n",
       "    <tr>\n",
       "      <th>83</th>\n",
       "      <td>34.687073</td>\n",
       "      <td>29.312927</td>\n",
       "      <td>31.886982</td>\n",
       "    </tr>\n",
       "  </tbody>\n",
       "</table>\n",
       "</div>"
      ],
      "text/plain": [
       "     X1_square  X2_square      X1*X2\n",
       "50   63.993470   0.006530   0.646432\n",
       "63   95.239669   4.760331  21.292541\n",
       "112  27.269054  36.730946 -31.648351\n",
       "159  97.642690   2.357310  15.171491\n",
       "83   34.687073  29.312927  31.886982"
      ]
     },
     "execution_count": 36,
     "metadata": {},
     "output_type": "execute_result"
    }
   ],
   "source": [
    "X_train.head()"
   ]
  },
  {
   "cell_type": "code",
   "execution_count": 37,
   "id": "1258356a-cf04-40d3-b3ad-b11fc9c3d168",
   "metadata": {},
   "outputs": [
    {
     "name": "stdout",
     "output_type": "stream",
     "text": [
      "Requirement already satisfied: plotly in /opt/conda/lib/python3.10/site-packages (5.20.0)\n",
      "Requirement already satisfied: packaging in /opt/conda/lib/python3.10/site-packages (from plotly) (22.0)\n",
      "Requirement already satisfied: tenacity>=6.2.0 in /opt/conda/lib/python3.10/site-packages (from plotly) (8.2.3)\n"
     ]
    }
   ],
   "source": [
    "! pip install plotly"
   ]
  },
  {
   "cell_type": "code",
   "execution_count": 38,
   "id": "ac39aff1-3b3c-4eb1-a3fd-dab1ff77b536",
   "metadata": {},
   "outputs": [
    {
     "data": {
      "application/vnd.plotly.v1+json": {
       "config": {
        "plotlyServerURL": "https://plot.ly"
       },
       "data": [
        {
         "hovertemplate": "X1_square=%{x}<br>X2_square=%{y}<br>X1*X2=%{z}<br>Y=%{marker.color}<extra></extra>",
         "legendgroup": "",
         "marker": {
          "color": [
           0,
           0,
           0,
           0,
           0,
           0,
           0,
           0,
           0,
           0,
           0,
           0,
           0,
           0,
           0,
           0,
           0,
           0,
           0,
           0,
           0,
           0,
           0,
           0,
           0,
           0,
           0,
           0,
           0,
           0,
           0,
           0,
           0,
           0,
           0,
           0,
           0,
           0,
           0,
           0,
           0,
           0,
           0,
           0,
           0,
           0,
           0,
           0,
           0,
           0,
           0,
           0,
           0,
           0,
           0,
           0,
           0,
           0,
           0,
           0,
           0,
           0,
           0,
           0,
           0,
           0,
           0,
           0,
           0,
           0,
           0,
           0,
           0,
           0,
           0,
           0,
           0,
           0,
           0,
           0,
           0,
           0,
           0,
           0,
           0,
           0,
           0,
           0,
           0,
           0,
           0,
           0,
           0,
           0,
           0,
           0,
           0,
           0,
           0,
           0,
           0,
           0,
           0,
           0,
           0,
           0,
           0,
           0,
           0,
           0,
           0,
           0,
           0,
           0,
           0,
           0,
           0,
           0,
           0,
           0,
           0,
           0,
           0,
           0,
           0,
           0,
           0,
           0,
           0,
           0,
           0,
           0,
           0,
           0,
           0,
           0,
           0,
           0,
           0,
           0,
           0,
           0,
           0,
           0,
           0,
           0,
           0,
           0,
           0,
           0,
           0,
           0,
           0,
           0,
           0,
           0,
           0,
           0,
           0,
           0,
           0,
           0,
           0,
           0,
           0,
           0,
           0,
           0,
           0,
           0,
           0,
           0,
           0,
           0,
           0,
           0,
           0,
           0,
           0,
           0,
           0,
           0,
           0,
           0,
           0,
           0,
           0,
           0,
           0,
           0,
           0,
           0,
           0,
           0,
           0,
           0,
           0,
           0,
           0,
           0,
           1,
           1,
           1,
           1,
           1,
           1,
           1,
           1,
           1,
           1,
           1,
           1,
           1,
           1,
           1,
           1,
           1,
           1,
           1,
           1,
           1,
           1,
           1,
           1,
           1,
           1,
           1,
           1,
           1,
           1,
           1,
           1,
           1,
           1,
           1,
           1,
           1,
           1,
           1,
           1,
           1,
           1,
           1,
           1,
           1,
           1,
           1,
           1,
           1,
           1,
           1,
           1,
           1,
           1,
           1,
           1,
           1,
           1,
           1,
           1,
           1,
           1,
           1,
           1,
           1,
           1,
           1,
           1,
           1,
           1,
           1,
           1,
           1,
           1,
           1,
           1,
           1,
           1,
           1,
           1,
           1,
           1,
           1,
           1,
           1,
           1,
           1,
           1,
           1,
           1,
           1,
           1,
           1,
           1,
           1,
           1,
           1,
           1,
           1,
           1,
           1,
           1,
           1,
           1,
           1,
           1,
           1,
           1,
           1,
           1,
           1,
           1,
           1,
           1,
           1,
           1,
           1,
           1,
           1,
           1,
           1,
           1,
           1,
           1,
           1,
           1,
           1,
           1,
           1,
           1,
           1,
           1,
           1,
           1,
           1,
           1,
           1,
           1,
           1,
           1,
           1,
           1,
           1,
           1,
           1,
           1,
           1,
           1,
           1,
           1,
           1,
           1,
           1,
           1,
           1,
           1,
           1,
           1,
           1,
           1,
           1,
           1,
           1,
           1,
           1,
           1,
           1,
           1,
           1,
           1,
           1,
           1,
           1,
           1,
           1,
           1,
           1,
           1,
           1,
           1,
           1,
           1,
           1,
           1,
           1,
           1,
           1,
           1,
           1,
           1,
           1,
           1,
           1,
           1,
           1,
           1,
           1,
           1,
           1,
           1
          ],
          "coloraxis": "coloraxis",
          "symbol": "circle"
         },
         "mode": "markers",
         "name": "",
         "scene": "scene",
         "showlegend": false,
         "type": "scatter3d",
         "x": [
          36,
          38.55973880216305,
          41.06723803693501,
          43.52249770431588,
          45.92551780430568,
          48.27629833690439,
          50.574839302112025,
          52.82114069992859,
          55.01520253035406,
          57.15702479338844,
          59.246607489031724,
          61.28395061728394,
          63.26905417814509,
          65.20191817161515,
          67.0825425976941,
          68.910927456382,
          70.68707274767881,
          72.41097847158453,
          74.08264462809919,
          75.70207121722275,
          77.26925823895522,
          78.78420569329661,
          80.24691358024691,
          81.65738189980615,
          83.0156106519743,
          84.32159983675135,
          85.57534945413734,
          86.77685950413222,
          87.92612998673606,
          89.02316090194878,
          90.06795224977041,
          91.06050403020102,
          92.00081624324051,
          92.88888888888889,
          93.7247219671462,
          94.50831547801243,
          95.2396694214876,
          95.91878379757168,
          96.54565860626468,
          97.12029384756656,
          97.64268952147742,
          98.11284562799715,
          98.53076216712581,
          98.8964391388634,
          99.20987654320986,
          99.4710743801653,
          99.68003264972964,
          99.83675135190285,
          99.94123048668501,
          99.9934700540761,
          99.9934700540761,
          99.94123048668501,
          99.83675135190285,
          99.68003264972964,
          99.4710743801653,
          99.20987654320986,
          98.89643913886336,
          98.53076216712581,
          98.11284562799715,
          97.6426895214774,
          97.12029384756656,
          96.54565860626468,
          95.91878379757168,
          95.2396694214876,
          94.50831547801243,
          93.7247219671462,
          92.88888888888889,
          92.00081624324048,
          91.06050403020099,
          90.06795224977041,
          89.02316090194878,
          87.92612998673603,
          86.77685950413222,
          85.57534945413731,
          84.32159983675135,
          83.01561065197426,
          81.65738189980611,
          80.24691358024691,
          78.78420569329661,
          77.26925823895522,
          75.70207121722272,
          74.08264462809915,
          72.41097847158453,
          70.68707274767878,
          68.910927456382,
          67.0825425976941,
          65.20191817161515,
          63.26905417814506,
          61.28395061728393,
          59.246607489031696,
          57.15702479338841,
          55.015202530354046,
          52.82114069992856,
          50.57483930211202,
          48.27629833690437,
          45.92551780430566,
          43.52249770431588,
          41.06723803693499,
          38.55973880216303,
          36,
          36,
          38.55973880216305,
          41.06723803693501,
          43.52249770431588,
          45.92551780430568,
          48.27629833690439,
          50.574839302112025,
          52.82114069992859,
          55.01520253035406,
          57.15702479338844,
          59.246607489031724,
          61.28395061728394,
          63.26905417814509,
          65.20191817161515,
          67.0825425976941,
          68.910927456382,
          70.68707274767881,
          72.41097847158453,
          74.08264462809919,
          75.70207121722275,
          77.26925823895522,
          78.78420569329661,
          80.24691358024691,
          81.65738189980615,
          83.0156106519743,
          84.32159983675135,
          85.57534945413734,
          86.77685950413222,
          87.92612998673606,
          89.02316090194878,
          90.06795224977041,
          91.06050403020102,
          92.00081624324051,
          92.88888888888889,
          93.7247219671462,
          94.50831547801243,
          95.2396694214876,
          95.91878379757168,
          96.54565860626468,
          97.12029384756656,
          97.64268952147742,
          98.11284562799715,
          98.53076216712581,
          98.8964391388634,
          99.20987654320986,
          99.4710743801653,
          99.68003264972964,
          99.83675135190285,
          99.94123048668501,
          99.9934700540761,
          99.9934700540761,
          99.94123048668501,
          99.83675135190285,
          99.68003264972964,
          99.4710743801653,
          99.20987654320986,
          98.89643913886336,
          98.53076216712581,
          98.11284562799715,
          97.6426895214774,
          97.12029384756656,
          96.54565860626468,
          95.91878379757168,
          95.2396694214876,
          94.50831547801243,
          93.7247219671462,
          92.88888888888889,
          92.00081624324048,
          91.06050403020099,
          90.06795224977041,
          89.02316090194878,
          87.92612998673603,
          86.77685950413222,
          85.57534945413731,
          84.32159983675135,
          83.01561065197426,
          81.65738189980611,
          80.24691358024691,
          78.78420569329661,
          77.26925823895522,
          75.70207121722272,
          74.08264462809915,
          72.41097847158453,
          70.68707274767878,
          68.910927456382,
          67.0825425976941,
          65.20191817161515,
          63.26905417814506,
          61.28395061728393,
          59.246607489031696,
          57.15702479338841,
          55.015202530354046,
          52.82114069992856,
          50.57483930211202,
          48.27629833690437,
          45.92551780430566,
          43.52249770431588,
          41.06723803693499,
          38.55973880216303,
          36,
          0,
          2.559738802163047,
          5.0672380369350085,
          7.522497704315881,
          9.925517804305679,
          12.276298336904397,
          14.574839302112032,
          16.82114069992858,
          19.015202530354053,
          21.157024793388437,
          23.24660748903173,
          25.283950617283946,
          27.26905417814509,
          29.201918171615137,
          31.082542597694115,
          32.910927456382,
          34.687072747678805,
          36.41097847158453,
          38.08264462809918,
          39.70207121722274,
          41.26925823895521,
          42.7842056932966,
          44.24691358024692,
          45.657381899806154,
          47.01561065197429,
          48.32159983675135,
          49.57534945413733,
          50.77685950413223,
          51.92612998673605,
          53.023160901948785,
          54.06795224977043,
          55.060504030201,
          56.000816243240486,
          56.888888888888886,
          57.724721967146216,
          58.50831547801245,
          59.239669421487605,
          59.91878379757168,
          60.54565860626467,
          61.120293847566586,
          61.6426895214774,
          62.11284562799714,
          62.53076216712579,
          62.89643913886339,
          63.20987654320989,
          63.47107438016529,
          63.680032649729625,
          63.836751351902876,
          63.94123048668503,
          63.99347005407611,
          63.99347005407611,
          63.94123048668503,
          63.836751351902876,
          63.680032649729625,
          63.47107438016529,
          63.20987654320987,
          62.89643913886338,
          62.53076216712579,
          62.11284562799714,
          61.6426895214774,
          61.12029384756657,
          60.54565860626466,
          59.91878379757168,
          59.239669421487605,
          58.50831547801245,
          57.7247219671462,
          56.888888888888886,
          56.000816243240486,
          55.06050403020099,
          54.06795224977043,
          53.02316090194877,
          51.926129986736036,
          50.77685950413223,
          49.57534945413732,
          48.32159983675135,
          47.015610651974264,
          45.65738189980613,
          44.24691358024692,
          42.78420569329659,
          41.2692582389552,
          39.702071217222716,
          38.08264462809915,
          36.41097847158452,
          34.6870727476788,
          32.910927456382,
          31.082542597694097,
          29.201918171615137,
          27.269054178145073,
          25.28395061728394,
          23.246607489031707,
          21.15702479338842,
          19.01520253035404,
          16.82114069992856,
          14.574839302112018,
          12.276298336904368,
          9.925517804305665,
          7.522497704315881,
          5.067238036934981,
          2.5597388021630327,
          0,
          0,
          2.559738802163047,
          5.0672380369350085,
          7.522497704315881,
          9.925517804305679,
          12.276298336904397,
          14.574839302112032,
          16.82114069992858,
          19.015202530354053,
          21.157024793388437,
          23.24660748903173,
          25.283950617283946,
          27.26905417814509,
          29.201918171615137,
          31.082542597694115,
          32.910927456382,
          34.687072747678805,
          36.41097847158453,
          38.08264462809918,
          39.70207121722274,
          41.26925823895521,
          42.7842056932966,
          44.24691358024692,
          45.657381899806154,
          47.01561065197429,
          48.32159983675135,
          49.57534945413733,
          50.77685950413223,
          51.92612998673605,
          53.023160901948785,
          54.06795224977043,
          55.060504030201,
          56.000816243240486,
          56.888888888888886,
          57.724721967146216,
          58.50831547801245,
          59.239669421487605,
          59.91878379757168,
          60.54565860626467,
          61.120293847566586,
          61.6426895214774,
          62.11284562799714,
          62.53076216712579,
          62.89643913886339,
          63.20987654320989,
          63.47107438016529,
          63.680032649729625,
          63.836751351902876,
          63.94123048668503,
          63.99347005407611,
          63.99347005407611,
          63.94123048668503,
          63.836751351902876,
          63.680032649729625,
          63.47107438016529,
          63.20987654320987,
          62.89643913886338,
          62.53076216712579,
          62.11284562799714,
          61.6426895214774,
          61.12029384756657,
          60.54565860626466,
          59.91878379757168,
          59.239669421487605,
          58.50831547801245,
          57.7247219671462,
          56.888888888888886,
          56.000816243240486,
          55.06050403020099,
          54.06795224977043,
          53.02316090194877,
          51.926129986736036,
          50.77685950413223,
          49.57534945413732,
          48.32159983675135,
          47.015610651974264,
          45.65738189980613,
          44.24691358024692,
          42.78420569329659,
          41.2692582389552,
          39.702071217222716,
          38.08264462809915,
          36.41097847158452,
          34.6870727476788,
          32.910927456382,
          31.082542597694097,
          29.201918171615137,
          27.269054178145073,
          25.28395061728394,
          23.246607489031707,
          21.15702479338842,
          19.01520253035404,
          16.82114069992856,
          14.574839302112018,
          12.276298336904368,
          9.925517804305665,
          7.522497704315881,
          5.067238036934981,
          2.5597388021630327,
          0
         ],
         "y": [
          64,
          61.44026119783695,
          58.93276196306499,
          56.47750229568412,
          54.07448219569432,
          51.7237016630956,
          49.42516069788797,
          47.178859300071416,
          44.98479746964595,
          42.84297520661156,
          40.75339251096827,
          38.71604938271605,
          36.73094582185491,
          34.79808182838486,
          32.917457402305885,
          31.089072543618002,
          29.312927252321185,
          27.58902152841547,
          25.917355371900825,
          24.297928782777266,
          22.730741761044786,
          21.215794306703394,
          19.75308641975309,
          18.34261810019385,
          16.98438934802571,
          15.678400163248646,
          14.424650545862663,
          13.223140495867764,
          12.073870013263948,
          10.976839098051219,
          9.932047750229568,
          8.939495969798998,
          7.999183756759511,
          7.111111111111108,
          6.2752780328537865,
          5.4916845219875485,
          4.760330578512396,
          4.0812162024283225,
          3.4543413937353313,
          2.879706152433423,
          2.3573104785225976,
          1.8871543720028543,
          1.469237832874196,
          1.1035608611366179,
          0.7901234567901225,
          0.5289256198347098,
          0.31996735027037965,
          0.1632486480971322,
          0.058769513314967756,
          0.006529945923885259,
          0.006529945923885402,
          0.058769513314968616,
          0.1632486480971336,
          0.3199673502703807,
          0.5289256198347124,
          0.7901234567901242,
          1.1035608611366217,
          1.4692378328741982,
          1.8871543720028567,
          2.357310478522603,
          2.879706152433426,
          3.454341393735338,
          4.081216202428326,
          4.760330578512404,
          5.4916845219875565,
          6.275278032853791,
          7.111111111111118,
          7.999183756759517,
          8.939495969799008,
          9.932047750229573,
          10.976839098051231,
          12.07387001326396,
          13.22314049586777,
          14.424650545862677,
          15.678400163248654,
          16.984389348025726,
          18.342618100193867,
          19.75308641975309,
          21.21579430670341,
          22.730741761044797,
          24.297928782777284,
          25.917355371900836,
          27.589021528415486,
          29.312927252321202,
          31.089072543618002,
          32.91745740230591,
          34.798081828384866,
          36.73094582185493,
          38.716049382716065,
          40.7533925109683,
          42.842975206611584,
          44.98479746964596,
          47.178859300071444,
          49.42516069788798,
          51.72370166309563,
          54.07448219569434,
          56.47750229568412,
          58.93276196306502,
          61.44026119783697,
          64,
          64,
          61.44026119783695,
          58.93276196306499,
          56.47750229568412,
          54.07448219569432,
          51.7237016630956,
          49.42516069788797,
          47.178859300071416,
          44.98479746964595,
          42.84297520661156,
          40.75339251096827,
          38.71604938271605,
          36.73094582185491,
          34.79808182838486,
          32.917457402305885,
          31.089072543618002,
          29.312927252321185,
          27.58902152841547,
          25.917355371900825,
          24.297928782777266,
          22.730741761044786,
          21.215794306703394,
          19.75308641975309,
          18.34261810019385,
          16.98438934802571,
          15.678400163248646,
          14.424650545862663,
          13.223140495867764,
          12.073870013263948,
          10.976839098051219,
          9.932047750229568,
          8.939495969798998,
          7.999183756759511,
          7.111111111111108,
          6.2752780328537865,
          5.4916845219875485,
          4.760330578512396,
          4.0812162024283225,
          3.4543413937353313,
          2.879706152433423,
          2.3573104785225976,
          1.8871543720028543,
          1.469237832874196,
          1.1035608611366179,
          0.7901234567901225,
          0.5289256198347098,
          0.31996735027037965,
          0.1632486480971322,
          0.058769513314967756,
          0.006529945923885259,
          0.006529945923885402,
          0.058769513314968616,
          0.1632486480971336,
          0.3199673502703807,
          0.5289256198347124,
          0.7901234567901242,
          1.1035608611366217,
          1.4692378328741982,
          1.8871543720028567,
          2.357310478522603,
          2.879706152433426,
          3.454341393735338,
          4.081216202428326,
          4.760330578512404,
          5.4916845219875565,
          6.275278032853791,
          7.111111111111118,
          7.999183756759517,
          8.939495969799008,
          9.932047750229573,
          10.976839098051231,
          12.07387001326396,
          13.22314049586777,
          14.424650545862677,
          15.678400163248654,
          16.984389348025726,
          18.342618100193867,
          19.75308641975309,
          21.21579430670341,
          22.730741761044797,
          24.297928782777284,
          25.917355371900836,
          27.589021528415486,
          29.312927252321202,
          31.089072543618002,
          32.91745740230591,
          34.798081828384866,
          36.73094582185493,
          38.716049382716065,
          40.7533925109683,
          42.842975206611584,
          44.98479746964596,
          47.178859300071444,
          49.42516069788798,
          51.72370166309563,
          54.07448219569434,
          56.47750229568412,
          58.93276196306502,
          61.44026119783697,
          64,
          64,
          61.44026119783695,
          58.93276196306499,
          56.47750229568412,
          54.07448219569432,
          51.7237016630956,
          49.42516069788797,
          47.178859300071416,
          44.98479746964595,
          42.84297520661156,
          40.75339251096827,
          38.71604938271605,
          36.73094582185491,
          34.79808182838486,
          32.917457402305885,
          31.089072543618002,
          29.312927252321185,
          27.58902152841547,
          25.917355371900825,
          24.297928782777266,
          22.730741761044786,
          21.215794306703394,
          19.75308641975309,
          18.34261810019385,
          16.98438934802571,
          15.678400163248646,
          14.424650545862663,
          13.223140495867764,
          12.073870013263948,
          10.976839098051219,
          9.932047750229568,
          8.939495969798998,
          7.999183756759511,
          7.111111111111108,
          6.2752780328537865,
          5.4916845219875485,
          4.760330578512396,
          4.0812162024283225,
          3.4543413937353313,
          2.879706152433423,
          2.3573104785225976,
          1.8871543720028543,
          1.469237832874196,
          1.1035608611366179,
          0.7901234567901225,
          0.5289256198347098,
          0.31996735027037965,
          0.1632486480971322,
          0.058769513314967756,
          0.006529945923885259,
          0.006529945923885402,
          0.058769513314968616,
          0.1632486480971336,
          0.3199673502703807,
          0.5289256198347124,
          0.7901234567901242,
          1.1035608611366217,
          1.4692378328741982,
          1.8871543720028567,
          2.357310478522603,
          2.879706152433426,
          3.454341393735338,
          4.081216202428326,
          4.760330578512404,
          5.4916845219875565,
          6.275278032853791,
          7.111111111111118,
          7.999183756759517,
          8.939495969799008,
          9.932047750229573,
          10.976839098051231,
          12.07387001326396,
          13.22314049586777,
          14.424650545862677,
          15.678400163248654,
          16.984389348025726,
          18.342618100193867,
          19.75308641975309,
          21.21579430670341,
          22.730741761044797,
          24.297928782777284,
          25.917355371900836,
          27.589021528415486,
          29.312927252321202,
          31.089072543618002,
          32.91745740230591,
          34.798081828384866,
          36.73094582185493,
          38.716049382716065,
          40.7533925109683,
          42.842975206611584,
          44.98479746964596,
          47.178859300071444,
          49.42516069788798,
          51.72370166309563,
          54.07448219569434,
          56.47750229568412,
          58.93276196306502,
          61.44026119783697,
          64,
          64,
          61.44026119783695,
          58.93276196306499,
          56.47750229568412,
          54.07448219569432,
          51.7237016630956,
          49.42516069788797,
          47.178859300071416,
          44.98479746964595,
          42.84297520661156,
          40.75339251096827,
          38.71604938271605,
          36.73094582185491,
          34.79808182838486,
          32.917457402305885,
          31.089072543618002,
          29.312927252321185,
          27.58902152841547,
          25.917355371900825,
          24.297928782777266,
          22.730741761044786,
          21.215794306703394,
          19.75308641975309,
          18.34261810019385,
          16.98438934802571,
          15.678400163248646,
          14.424650545862663,
          13.223140495867764,
          12.073870013263948,
          10.976839098051219,
          9.932047750229568,
          8.939495969798998,
          7.999183756759511,
          7.111111111111108,
          6.2752780328537865,
          5.4916845219875485,
          4.760330578512396,
          4.0812162024283225,
          3.4543413937353313,
          2.879706152433423,
          2.3573104785225976,
          1.8871543720028543,
          1.469237832874196,
          1.1035608611366179,
          0.7901234567901225,
          0.5289256198347098,
          0.31996735027037965,
          0.1632486480971322,
          0.058769513314967756,
          0.006529945923885259,
          0.006529945923885402,
          0.058769513314968616,
          0.1632486480971336,
          0.3199673502703807,
          0.5289256198347124,
          0.7901234567901242,
          1.1035608611366217,
          1.4692378328741982,
          1.8871543720028567,
          2.357310478522603,
          2.879706152433426,
          3.454341393735338,
          4.081216202428326,
          4.760330578512404,
          5.4916845219875565,
          6.275278032853791,
          7.111111111111118,
          7.999183756759517,
          8.939495969799008,
          9.932047750229573,
          10.976839098051231,
          12.07387001326396,
          13.22314049586777,
          14.424650545862677,
          15.678400163248654,
          16.984389348025726,
          18.342618100193867,
          19.75308641975309,
          21.21579430670341,
          22.730741761044797,
          24.297928782777284,
          25.917355371900836,
          27.589021528415486,
          29.312927252321202,
          31.089072543618002,
          32.91745740230591,
          34.798081828384866,
          36.73094582185493,
          38.716049382716065,
          40.7533925109683,
          42.842975206611584,
          44.98479746964596,
          47.178859300071444,
          49.42516069788798,
          51.72370166309563,
          54.07448219569434,
          56.47750229568412,
          58.93276196306502,
          61.44026119783697,
          64
         ],
         "z": [
          -48,
          -48.67361116380483,
          -49.195586831658176,
          -49.57864423327253,
          -49.83370942280907,
          -49.970279692799814,
          -49.996695488569515,
          -49.92034820743147,
          -49.74784159719425,
          -49.485118935967236,
          -49.13756455039039,
          -48.71008579818657,
          -48.20717997578214,
          -47.63298944957704,
          -46.99134748438233,
          -46.285816647645504,
          -45.51972123302431,
          -44.696174824543704,
          -43.8181038808925,
          -42.88826803619856,
          -41.909277673292976,
          -40.88360921697094,
          -39.8136185101163,
          -38.70155256898392,
          -37.54955996116655,
          -36.359700007644584,
          -35.13395097645596,
          -33.874217408130896,
          -32.582336690747034,
          -31.26008498421935,
          -29.909182578434276,
          -28.531298757432115,
          -27.128056231539077,
          -25.701035190757256,
          -24.251777025524568,
          -22.7817877549089,
          -21.292541197201416,
          -19.785481913561487,
          -18.262027951710614,
          -16.72357341356743,
          -15.171490868075798,
          -13.607133628230303,
          -12.031837909391514,
          -10.446924884358518,
          -8.85370264928986,
          -7.253468113402957,
          -5.647508824410894,
          -4.03710474085175,
          -2.423529961812211,
          -0.8080544240301868,
          0.8080544240301957,
          2.423529961812229,
          4.037104740851768,
          5.647508824410903,
          7.253468113402975,
          8.853702649289868,
          10.446924884358534,
          12.031837909391523,
          13.607133628230311,
          15.171490868075812,
          16.723573413567436,
          18.262027951710632,
          19.785481913561497,
          21.29254119720143,
          22.78178775490892,
          24.251777025524575,
          25.701035190757274,
          27.12805623153908,
          28.53129875743213,
          29.909182578434283,
          31.260084984219368,
          32.58233669074705,
          33.8742174081309,
          35.133950976455964,
          36.35970000764459,
          37.54955996116656,
          38.70155256898393,
          39.8136185101163,
          40.88360921697095,
          41.90927767329298,
          42.88826803619857,
          43.818103880892494,
          44.69617482454372,
          45.51972123302432,
          46.285816647645504,
          46.991347484382345,
          47.632989449577046,
          48.20717997578215,
          48.71008579818657,
          49.137564550390394,
          49.485118935967236,
          49.74784159719425,
          49.92034820743147,
          49.996695488569515,
          49.970279692799814,
          49.83370942280907,
          49.57864423327253,
          49.19558683165817,
          48.67361116380483,
          48,
          -48,
          -48.67361116380483,
          -49.195586831658176,
          -49.57864423327253,
          -49.83370942280907,
          -49.970279692799814,
          -49.996695488569515,
          -49.92034820743147,
          -49.74784159719425,
          -49.485118935967236,
          -49.13756455039039,
          -48.71008579818657,
          -48.20717997578214,
          -47.63298944957704,
          -46.99134748438233,
          -46.285816647645504,
          -45.51972123302431,
          -44.696174824543704,
          -43.8181038808925,
          -42.88826803619856,
          -41.909277673292976,
          -40.88360921697094,
          -39.8136185101163,
          -38.70155256898392,
          -37.54955996116655,
          -36.359700007644584,
          -35.13395097645596,
          -33.874217408130896,
          -32.582336690747034,
          -31.26008498421935,
          -29.909182578434276,
          -28.531298757432115,
          -27.128056231539077,
          -25.701035190757256,
          -24.251777025524568,
          -22.7817877549089,
          -21.292541197201416,
          -19.785481913561487,
          -18.262027951710614,
          -16.72357341356743,
          -15.171490868075798,
          -13.607133628230303,
          -12.031837909391514,
          -10.446924884358518,
          -8.85370264928986,
          -7.253468113402957,
          -5.647508824410894,
          -4.03710474085175,
          -2.423529961812211,
          -0.8080544240301868,
          0.8080544240301957,
          2.423529961812229,
          4.037104740851768,
          5.647508824410903,
          7.253468113402975,
          8.853702649289868,
          10.446924884358534,
          12.031837909391523,
          13.607133628230311,
          15.171490868075812,
          16.723573413567436,
          18.262027951710632,
          19.785481913561497,
          21.29254119720143,
          22.78178775490892,
          24.251777025524575,
          25.701035190757274,
          27.12805623153908,
          28.53129875743213,
          29.909182578434283,
          31.260084984219368,
          32.58233669074705,
          33.8742174081309,
          35.133950976455964,
          36.35970000764459,
          37.54955996116656,
          38.70155256898393,
          39.8136185101163,
          40.88360921697095,
          41.90927767329298,
          42.88826803619857,
          43.818103880892494,
          44.69617482454372,
          45.51972123302432,
          46.285816647645504,
          46.991347484382345,
          47.632989449577046,
          48.20717997578215,
          48.71008579818657,
          49.137564550390394,
          49.485118935967236,
          49.74784159719425,
          49.92034820743147,
          49.996695488569515,
          49.970279692799814,
          49.83370942280907,
          49.57864423327253,
          49.19558683165817,
          48.67361116380483,
          48,
          0,
          -12.540774322311039,
          -17.280808228809196,
          -20.611935410455242,
          -23.167158561031485,
          -25.19872204507998,
          -26.83959341444614,
          -28.170946564654788,
          -29.247137204729565,
          -30.10697408689234,
          -30.779508110899446,
          -31.28729263916773,
          -31.648351483618757,
          -31.8774330535202,
          -31.986845294823215,
          -31.987031921846224,
          -31.88698229761922,
          -31.694530583733492,
          -31.416578972387434,
          -31.059267521382875,
          -30.628105584569884,
          -30.128075072341893,
          -29.563712685621265,
          -28.939176208780502,
          -28.25829854659187,
          -27.52463221859573,
          -26.741486337990906,
          -25.911957609607168,
          -25.03895652282056,
          -24.125229650529178,
          -23.17337876749638,
          -22.1858773518895,
          -21.165084919702153,
          -20.11325955375068,
          -19.032568920485357,
          -17.92510001417469,
          -16.792867825600045,
          -15.637823098642892,
          -14.461859311118603,
          -13.26681899444536,
          -12.054499489124124,
          -10.826658218693947,
          -9.58501755316075,
          -8.331269323369098,
          -7.0670790399993315,
          -5.794089864517455,
          -4.51392637424064,
          -3.2281981595173055,
          -1.938503287710046,
          -0.6464316660985039,
          0.646431666098511,
          1.9385032877100603,
          3.2281981595173197,
          4.513926374240647,
          5.794089864517469,
          7.067079039999339,
          8.33126932336911,
          9.585017553160757,
          10.826658218693954,
          12.054499489124138,
          13.266818994445366,
          14.461859311118616,
          15.6378230986429,
          16.79286782560006,
          17.925100014174703,
          19.03256892048536,
          20.113259553750694,
          21.16508491970216,
          22.18587735188951,
          23.173378767496388,
          24.12522965052919,
          25.03895652282057,
          25.911957609607175,
          26.741486337990917,
          27.524632218595737,
          28.258298546591877,
          28.939176208780506,
          29.563712685621265,
          30.1280750723419,
          30.628105584569884,
          31.05926752138288,
          31.41657897238743,
          31.6945305837335,
          31.886982297619227,
          31.987031921846224,
          31.986845294823215,
          31.877433053520207,
          31.648351483618757,
          31.28729263916773,
          30.779508110899435,
          30.106974086892336,
          29.247137204729555,
          28.170946564654777,
          26.839593414446128,
          25.198722045079958,
          23.16715856103147,
          20.611935410455242,
          17.28080822880915,
          12.540774322311005,
          0,
          0,
          -12.540774322311039,
          -17.280808228809196,
          -20.611935410455242,
          -23.167158561031485,
          -25.19872204507998,
          -26.83959341444614,
          -28.170946564654788,
          -29.247137204729565,
          -30.10697408689234,
          -30.779508110899446,
          -31.28729263916773,
          -31.648351483618757,
          -31.8774330535202,
          -31.986845294823215,
          -31.987031921846224,
          -31.88698229761922,
          -31.694530583733492,
          -31.416578972387434,
          -31.059267521382875,
          -30.628105584569884,
          -30.128075072341893,
          -29.563712685621265,
          -28.939176208780502,
          -28.25829854659187,
          -27.52463221859573,
          -26.741486337990906,
          -25.911957609607168,
          -25.03895652282056,
          -24.125229650529178,
          -23.17337876749638,
          -22.1858773518895,
          -21.165084919702153,
          -20.11325955375068,
          -19.032568920485357,
          -17.92510001417469,
          -16.792867825600045,
          -15.637823098642892,
          -14.461859311118603,
          -13.26681899444536,
          -12.054499489124124,
          -10.826658218693947,
          -9.58501755316075,
          -8.331269323369098,
          -7.0670790399993315,
          -5.794089864517455,
          -4.51392637424064,
          -3.2281981595173055,
          -1.938503287710046,
          -0.6464316660985039,
          0.646431666098511,
          1.9385032877100603,
          3.2281981595173197,
          4.513926374240647,
          5.794089864517469,
          7.067079039999339,
          8.33126932336911,
          9.585017553160757,
          10.826658218693954,
          12.054499489124138,
          13.266818994445366,
          14.461859311118616,
          15.6378230986429,
          16.79286782560006,
          17.925100014174703,
          19.03256892048536,
          20.113259553750694,
          21.16508491970216,
          22.18587735188951,
          23.173378767496388,
          24.12522965052919,
          25.03895652282057,
          25.911957609607175,
          26.741486337990917,
          27.524632218595737,
          28.258298546591877,
          28.939176208780506,
          29.563712685621265,
          30.1280750723419,
          30.628105584569884,
          31.05926752138288,
          31.41657897238743,
          31.6945305837335,
          31.886982297619227,
          31.987031921846224,
          31.986845294823215,
          31.877433053520207,
          31.648351483618757,
          31.28729263916773,
          30.779508110899435,
          30.106974086892336,
          29.247137204729555,
          28.170946564654777,
          26.839593414446128,
          25.198722045079958,
          23.16715856103147,
          20.611935410455242,
          17.28080822880915,
          12.540774322311005,
          0
         ]
        }
       ],
       "layout": {
        "autosize": true,
        "coloraxis": {
         "colorbar": {
          "title": {
           "text": "Y"
          }
         },
         "colorscale": [
          [
           0,
           "#0d0887"
          ],
          [
           0.1111111111111111,
           "#46039f"
          ],
          [
           0.2222222222222222,
           "#7201a8"
          ],
          [
           0.3333333333333333,
           "#9c179e"
          ],
          [
           0.4444444444444444,
           "#bd3786"
          ],
          [
           0.5555555555555556,
           "#d8576b"
          ],
          [
           0.6666666666666666,
           "#ed7953"
          ],
          [
           0.7777777777777778,
           "#fb9f3a"
          ],
          [
           0.8888888888888888,
           "#fdca26"
          ],
          [
           1,
           "#f0f921"
          ]
         ]
        },
        "legend": {
         "tracegroupgap": 0
        },
        "margin": {
         "t": 60
        },
        "scene": {
         "aspectmode": "auto",
         "aspectratio": {
          "x": 1.1604117230673583,
          "y": 0.7426362222488228,
          "z": 1.1604108053893865
         },
         "domain": {
          "x": [
           0,
           1
          ],
          "y": [
           0,
           1
          ]
         },
         "xaxis": {
          "title": {
           "text": "X1_square"
          },
          "type": "linear"
         },
         "yaxis": {
          "title": {
           "text": "X2_square"
          },
          "type": "linear"
         },
         "zaxis": {
          "title": {
           "text": "X1*X2"
          },
          "type": "linear"
         }
        },
        "template": {
         "data": {
          "bar": [
           {
            "error_x": {
             "color": "#2a3f5f"
            },
            "error_y": {
             "color": "#2a3f5f"
            },
            "marker": {
             "line": {
              "color": "#E5ECF6",
              "width": 0.5
             },
             "pattern": {
              "fillmode": "overlay",
              "size": 10,
              "solidity": 0.2
             }
            },
            "type": "bar"
           }
          ],
          "barpolar": [
           {
            "marker": {
             "line": {
              "color": "#E5ECF6",
              "width": 0.5
             },
             "pattern": {
              "fillmode": "overlay",
              "size": 10,
              "solidity": 0.2
             }
            },
            "type": "barpolar"
           }
          ],
          "carpet": [
           {
            "aaxis": {
             "endlinecolor": "#2a3f5f",
             "gridcolor": "white",
             "linecolor": "white",
             "minorgridcolor": "white",
             "startlinecolor": "#2a3f5f"
            },
            "baxis": {
             "endlinecolor": "#2a3f5f",
             "gridcolor": "white",
             "linecolor": "white",
             "minorgridcolor": "white",
             "startlinecolor": "#2a3f5f"
            },
            "type": "carpet"
           }
          ],
          "choropleth": [
           {
            "colorbar": {
             "outlinewidth": 0,
             "ticks": ""
            },
            "type": "choropleth"
           }
          ],
          "contour": [
           {
            "colorbar": {
             "outlinewidth": 0,
             "ticks": ""
            },
            "colorscale": [
             [
              0,
              "#0d0887"
             ],
             [
              0.1111111111111111,
              "#46039f"
             ],
             [
              0.2222222222222222,
              "#7201a8"
             ],
             [
              0.3333333333333333,
              "#9c179e"
             ],
             [
              0.4444444444444444,
              "#bd3786"
             ],
             [
              0.5555555555555556,
              "#d8576b"
             ],
             [
              0.6666666666666666,
              "#ed7953"
             ],
             [
              0.7777777777777778,
              "#fb9f3a"
             ],
             [
              0.8888888888888888,
              "#fdca26"
             ],
             [
              1,
              "#f0f921"
             ]
            ],
            "type": "contour"
           }
          ],
          "contourcarpet": [
           {
            "colorbar": {
             "outlinewidth": 0,
             "ticks": ""
            },
            "type": "contourcarpet"
           }
          ],
          "heatmap": [
           {
            "colorbar": {
             "outlinewidth": 0,
             "ticks": ""
            },
            "colorscale": [
             [
              0,
              "#0d0887"
             ],
             [
              0.1111111111111111,
              "#46039f"
             ],
             [
              0.2222222222222222,
              "#7201a8"
             ],
             [
              0.3333333333333333,
              "#9c179e"
             ],
             [
              0.4444444444444444,
              "#bd3786"
             ],
             [
              0.5555555555555556,
              "#d8576b"
             ],
             [
              0.6666666666666666,
              "#ed7953"
             ],
             [
              0.7777777777777778,
              "#fb9f3a"
             ],
             [
              0.8888888888888888,
              "#fdca26"
             ],
             [
              1,
              "#f0f921"
             ]
            ],
            "type": "heatmap"
           }
          ],
          "heatmapgl": [
           {
            "colorbar": {
             "outlinewidth": 0,
             "ticks": ""
            },
            "colorscale": [
             [
              0,
              "#0d0887"
             ],
             [
              0.1111111111111111,
              "#46039f"
             ],
             [
              0.2222222222222222,
              "#7201a8"
             ],
             [
              0.3333333333333333,
              "#9c179e"
             ],
             [
              0.4444444444444444,
              "#bd3786"
             ],
             [
              0.5555555555555556,
              "#d8576b"
             ],
             [
              0.6666666666666666,
              "#ed7953"
             ],
             [
              0.7777777777777778,
              "#fb9f3a"
             ],
             [
              0.8888888888888888,
              "#fdca26"
             ],
             [
              1,
              "#f0f921"
             ]
            ],
            "type": "heatmapgl"
           }
          ],
          "histogram": [
           {
            "marker": {
             "pattern": {
              "fillmode": "overlay",
              "size": 10,
              "solidity": 0.2
             }
            },
            "type": "histogram"
           }
          ],
          "histogram2d": [
           {
            "colorbar": {
             "outlinewidth": 0,
             "ticks": ""
            },
            "colorscale": [
             [
              0,
              "#0d0887"
             ],
             [
              0.1111111111111111,
              "#46039f"
             ],
             [
              0.2222222222222222,
              "#7201a8"
             ],
             [
              0.3333333333333333,
              "#9c179e"
             ],
             [
              0.4444444444444444,
              "#bd3786"
             ],
             [
              0.5555555555555556,
              "#d8576b"
             ],
             [
              0.6666666666666666,
              "#ed7953"
             ],
             [
              0.7777777777777778,
              "#fb9f3a"
             ],
             [
              0.8888888888888888,
              "#fdca26"
             ],
             [
              1,
              "#f0f921"
             ]
            ],
            "type": "histogram2d"
           }
          ],
          "histogram2dcontour": [
           {
            "colorbar": {
             "outlinewidth": 0,
             "ticks": ""
            },
            "colorscale": [
             [
              0,
              "#0d0887"
             ],
             [
              0.1111111111111111,
              "#46039f"
             ],
             [
              0.2222222222222222,
              "#7201a8"
             ],
             [
              0.3333333333333333,
              "#9c179e"
             ],
             [
              0.4444444444444444,
              "#bd3786"
             ],
             [
              0.5555555555555556,
              "#d8576b"
             ],
             [
              0.6666666666666666,
              "#ed7953"
             ],
             [
              0.7777777777777778,
              "#fb9f3a"
             ],
             [
              0.8888888888888888,
              "#fdca26"
             ],
             [
              1,
              "#f0f921"
             ]
            ],
            "type": "histogram2dcontour"
           }
          ],
          "mesh3d": [
           {
            "colorbar": {
             "outlinewidth": 0,
             "ticks": ""
            },
            "type": "mesh3d"
           }
          ],
          "parcoords": [
           {
            "line": {
             "colorbar": {
              "outlinewidth": 0,
              "ticks": ""
             }
            },
            "type": "parcoords"
           }
          ],
          "pie": [
           {
            "automargin": true,
            "type": "pie"
           }
          ],
          "scatter": [
           {
            "fillpattern": {
             "fillmode": "overlay",
             "size": 10,
             "solidity": 0.2
            },
            "type": "scatter"
           }
          ],
          "scatter3d": [
           {
            "line": {
             "colorbar": {
              "outlinewidth": 0,
              "ticks": ""
             }
            },
            "marker": {
             "colorbar": {
              "outlinewidth": 0,
              "ticks": ""
             }
            },
            "type": "scatter3d"
           }
          ],
          "scattercarpet": [
           {
            "marker": {
             "colorbar": {
              "outlinewidth": 0,
              "ticks": ""
             }
            },
            "type": "scattercarpet"
           }
          ],
          "scattergeo": [
           {
            "marker": {
             "colorbar": {
              "outlinewidth": 0,
              "ticks": ""
             }
            },
            "type": "scattergeo"
           }
          ],
          "scattergl": [
           {
            "marker": {
             "colorbar": {
              "outlinewidth": 0,
              "ticks": ""
             }
            },
            "type": "scattergl"
           }
          ],
          "scattermapbox": [
           {
            "marker": {
             "colorbar": {
              "outlinewidth": 0,
              "ticks": ""
             }
            },
            "type": "scattermapbox"
           }
          ],
          "scatterpolar": [
           {
            "marker": {
             "colorbar": {
              "outlinewidth": 0,
              "ticks": ""
             }
            },
            "type": "scatterpolar"
           }
          ],
          "scatterpolargl": [
           {
            "marker": {
             "colorbar": {
              "outlinewidth": 0,
              "ticks": ""
             }
            },
            "type": "scatterpolargl"
           }
          ],
          "scatterternary": [
           {
            "marker": {
             "colorbar": {
              "outlinewidth": 0,
              "ticks": ""
             }
            },
            "type": "scatterternary"
           }
          ],
          "surface": [
           {
            "colorbar": {
             "outlinewidth": 0,
             "ticks": ""
            },
            "colorscale": [
             [
              0,
              "#0d0887"
             ],
             [
              0.1111111111111111,
              "#46039f"
             ],
             [
              0.2222222222222222,
              "#7201a8"
             ],
             [
              0.3333333333333333,
              "#9c179e"
             ],
             [
              0.4444444444444444,
              "#bd3786"
             ],
             [
              0.5555555555555556,
              "#d8576b"
             ],
             [
              0.6666666666666666,
              "#ed7953"
             ],
             [
              0.7777777777777778,
              "#fb9f3a"
             ],
             [
              0.8888888888888888,
              "#fdca26"
             ],
             [
              1,
              "#f0f921"
             ]
            ],
            "type": "surface"
           }
          ],
          "table": [
           {
            "cells": {
             "fill": {
              "color": "#EBF0F8"
             },
             "line": {
              "color": "white"
             }
            },
            "header": {
             "fill": {
              "color": "#C8D4E3"
             },
             "line": {
              "color": "white"
             }
            },
            "type": "table"
           }
          ]
         },
         "layout": {
          "annotationdefaults": {
           "arrowcolor": "#2a3f5f",
           "arrowhead": 0,
           "arrowwidth": 1
          },
          "autotypenumbers": "strict",
          "coloraxis": {
           "colorbar": {
            "outlinewidth": 0,
            "ticks": ""
           }
          },
          "colorscale": {
           "diverging": [
            [
             0,
             "#8e0152"
            ],
            [
             0.1,
             "#c51b7d"
            ],
            [
             0.2,
             "#de77ae"
            ],
            [
             0.3,
             "#f1b6da"
            ],
            [
             0.4,
             "#fde0ef"
            ],
            [
             0.5,
             "#f7f7f7"
            ],
            [
             0.6,
             "#e6f5d0"
            ],
            [
             0.7,
             "#b8e186"
            ],
            [
             0.8,
             "#7fbc41"
            ],
            [
             0.9,
             "#4d9221"
            ],
            [
             1,
             "#276419"
            ]
           ],
           "sequential": [
            [
             0,
             "#0d0887"
            ],
            [
             0.1111111111111111,
             "#46039f"
            ],
            [
             0.2222222222222222,
             "#7201a8"
            ],
            [
             0.3333333333333333,
             "#9c179e"
            ],
            [
             0.4444444444444444,
             "#bd3786"
            ],
            [
             0.5555555555555556,
             "#d8576b"
            ],
            [
             0.6666666666666666,
             "#ed7953"
            ],
            [
             0.7777777777777778,
             "#fb9f3a"
            ],
            [
             0.8888888888888888,
             "#fdca26"
            ],
            [
             1,
             "#f0f921"
            ]
           ],
           "sequentialminus": [
            [
             0,
             "#0d0887"
            ],
            [
             0.1111111111111111,
             "#46039f"
            ],
            [
             0.2222222222222222,
             "#7201a8"
            ],
            [
             0.3333333333333333,
             "#9c179e"
            ],
            [
             0.4444444444444444,
             "#bd3786"
            ],
            [
             0.5555555555555556,
             "#d8576b"
            ],
            [
             0.6666666666666666,
             "#ed7953"
            ],
            [
             0.7777777777777778,
             "#fb9f3a"
            ],
            [
             0.8888888888888888,
             "#fdca26"
            ],
            [
             1,
             "#f0f921"
            ]
           ]
          },
          "colorway": [
           "#636efa",
           "#EF553B",
           "#00cc96",
           "#ab63fa",
           "#FFA15A",
           "#19d3f3",
           "#FF6692",
           "#B6E880",
           "#FF97FF",
           "#FECB52"
          ],
          "font": {
           "color": "#2a3f5f"
          },
          "geo": {
           "bgcolor": "white",
           "lakecolor": "white",
           "landcolor": "#E5ECF6",
           "showlakes": true,
           "showland": true,
           "subunitcolor": "white"
          },
          "hoverlabel": {
           "align": "left"
          },
          "hovermode": "closest",
          "mapbox": {
           "style": "light"
          },
          "paper_bgcolor": "white",
          "plot_bgcolor": "#E5ECF6",
          "polar": {
           "angularaxis": {
            "gridcolor": "white",
            "linecolor": "white",
            "ticks": ""
           },
           "bgcolor": "#E5ECF6",
           "radialaxis": {
            "gridcolor": "white",
            "linecolor": "white",
            "ticks": ""
           }
          },
          "scene": {
           "xaxis": {
            "backgroundcolor": "#E5ECF6",
            "gridcolor": "white",
            "gridwidth": 2,
            "linecolor": "white",
            "showbackground": true,
            "ticks": "",
            "zerolinecolor": "white"
           },
           "yaxis": {
            "backgroundcolor": "#E5ECF6",
            "gridcolor": "white",
            "gridwidth": 2,
            "linecolor": "white",
            "showbackground": true,
            "ticks": "",
            "zerolinecolor": "white"
           },
           "zaxis": {
            "backgroundcolor": "#E5ECF6",
            "gridcolor": "white",
            "gridwidth": 2,
            "linecolor": "white",
            "showbackground": true,
            "ticks": "",
            "zerolinecolor": "white"
           }
          },
          "shapedefaults": {
           "line": {
            "color": "#2a3f5f"
           }
          },
          "ternary": {
           "aaxis": {
            "gridcolor": "white",
            "linecolor": "white",
            "ticks": ""
           },
           "baxis": {
            "gridcolor": "white",
            "linecolor": "white",
            "ticks": ""
           },
           "bgcolor": "#E5ECF6",
           "caxis": {
            "gridcolor": "white",
            "linecolor": "white",
            "ticks": ""
           }
          },
          "title": {
           "x": 0.05
          },
          "xaxis": {
           "automargin": true,
           "gridcolor": "white",
           "linecolor": "white",
           "ticks": "",
           "title": {
            "standoff": 15
           },
           "zerolinecolor": "white",
           "zerolinewidth": 2
          },
          "yaxis": {
           "automargin": true,
           "gridcolor": "white",
           "linecolor": "white",
           "ticks": "",
           "title": {
            "standoff": 15
           },
           "zerolinecolor": "white",
           "zerolinewidth": 2
          }
         }
        }
       }
      },
      "image/png": "[encoded data removed]",
      "text/html": [
       "<div>                            <div id=\"acc7288b-0411-4228-9e50-b9fc982fdf74\" class=\"plotly-graph-div\" style=\"height:525px; width:100%;\"></div>            <script type=\"text/javascript\">                require([\"plotly\"], function(Plotly) {                    window.PLOTLYENV=window.PLOTLYENV || {};                                    if (document.getElementById(\"acc7288b-0411-4228-9e50-b9fc982fdf74\")) {                    Plotly.newPlot(                        \"acc7288b-0411-4228-9e50-b9fc982fdf74\",                        [{\"hovertemplate\":\"X1_square=%{x}\\u003cbr\\u003eX2_square=%{y}\\u003cbr\\u003eX1*X2=%{z}\\u003cbr\\u003eY=%{marker.color}\\u003cextra\\u003e\\u003c\\u002fextra\\u003e\",\"legendgroup\":\"\",\"marker\":{\"color\":[0,0,0,0,0,0,0,0,0,0,0,0,0,0,0,0,0,0,0,0,0,0,0,0,0,0,0,0,0,0,0,0,0,0,0,0,0,0,0,0,0,0,0,0,0,0,0,0,0,0,0,0,0,0,0,0,0,0,0,0,0,0,0,0,0,0,0,0,0,0,0,0,0,0,0,0,0,0,0,0,0,0,0,0,0,0,0,0,0,0,0,0,0,0,0,0,0,0,0,0,0,0,0,0,0,0,0,0,0,0,0,0,0,0,0,0,0,0,0,0,0,0,0,0,0,0,0,0,0,0,0,0,0,0,0,0,0,0,0,0,0,0,0,0,0,0,0,0,0,0,0,0,0,0,0,0,0,0,0,0,0,0,0,0,0,0,0,0,0,0,0,0,0,0,0,0,0,0,0,0,0,0,0,0,0,0,0,0,0,0,0,0,0,0,0,0,0,0,0,0,1,1,1,1,1,1,1,1,1,1,1,1,1,1,1,1,1,1,1,1,1,1,1,1,1,1,1,1,1,1,1,1,1,1,1,1,1,1,1,1,1,1,1,1,1,1,1,1,1,1,1,1,1,1,1,1,1,1,1,1,1,1,1,1,1,1,1,1,1,1,1,1,1,1,1,1,1,1,1,1,1,1,1,1,1,1,1,1,1,1,1,1,1,1,1,1,1,1,1,1,1,1,1,1,1,1,1,1,1,1,1,1,1,1,1,1,1,1,1,1,1,1,1,1,1,1,1,1,1,1,1,1,1,1,1,1,1,1,1,1,1,1,1,1,1,1,1,1,1,1,1,1,1,1,1,1,1,1,1,1,1,1,1,1,1,1,1,1,1,1,1,1,1,1,1,1,1,1,1,1,1,1,1,1,1,1,1,1,1,1,1,1,1,1,1,1,1,1,1,1],\"coloraxis\":\"coloraxis\",\"symbol\":\"circle\"},\"mode\":\"markers\",\"name\":\"\",\"scene\":\"scene\",\"showlegend\":false,\"x\":[36.0,38.55973880216305,41.06723803693501,43.52249770431588,45.92551780430568,48.27629833690439,50.574839302112025,52.82114069992859,55.01520253035406,57.15702479338844,59.246607489031724,61.28395061728394,63.26905417814509,65.20191817161515,67.0825425976941,68.910927456382,70.68707274767881,72.41097847158453,74.08264462809919,75.70207121722275,77.26925823895522,78.78420569329661,80.24691358024691,81.65738189980615,83.0156106519743,84.32159983675135,85.57534945413734,86.77685950413222,87.92612998673606,89.02316090194878,90.06795224977041,91.06050403020102,92.00081624324051,92.88888888888889,93.7247219671462,94.50831547801243,95.2396694214876,95.91878379757168,96.54565860626468,97.12029384756656,97.64268952147742,98.11284562799715,98.53076216712581,98.8964391388634,99.20987654320986,99.4710743801653,99.68003264972964,99.83675135190285,99.94123048668501,99.9934700540761,99.9934700540761,99.94123048668501,99.83675135190285,99.68003264972964,99.4710743801653,99.20987654320986,98.89643913886336,98.53076216712581,98.11284562799715,97.6426895214774,97.12029384756656,96.54565860626468,95.91878379757168,95.2396694214876,94.50831547801243,93.7247219671462,92.88888888888889,92.00081624324048,91.06050403020099,90.06795224977041,89.02316090194878,87.92612998673603,86.77685950413222,85.57534945413731,84.32159983675135,83.01561065197426,81.65738189980611,80.24691358024691,78.78420569329661,77.26925823895522,75.70207121722272,74.08264462809915,72.41097847158453,70.68707274767878,68.910927456382,67.0825425976941,65.20191817161515,63.26905417814506,61.28395061728393,59.246607489031696,57.15702479338841,55.015202530354046,52.82114069992856,50.57483930211202,48.27629833690437,45.92551780430566,43.52249770431588,41.06723803693499,38.55973880216303,36.0,36.0,38.55973880216305,41.06723803693501,43.52249770431588,45.92551780430568,48.27629833690439,50.574839302112025,52.82114069992859,55.01520253035406,57.15702479338844,59.246607489031724,61.28395061728394,63.26905417814509,65.20191817161515,67.0825425976941,68.910927456382,70.68707274767881,72.41097847158453,74.08264462809919,75.70207121722275,77.26925823895522,78.78420569329661,80.24691358024691,81.65738189980615,83.0156106519743,84.32159983675135,85.57534945413734,86.77685950413222,87.92612998673606,89.02316090194878,90.06795224977041,91.06050403020102,92.00081624324051,92.88888888888889,93.7247219671462,94.50831547801243,95.2396694214876,95.91878379757168,96.54565860626468,97.12029384756656,97.64268952147742,98.11284562799715,98.53076216712581,98.8964391388634,99.20987654320986,99.4710743801653,99.68003264972964,99.83675135190285,99.94123048668501,99.9934700540761,99.9934700540761,99.94123048668501,99.83675135190285,99.68003264972964,99.4710743801653,99.20987654320986,98.89643913886336,98.53076216712581,98.11284562799715,97.6426895214774,97.12029384756656,96.54565860626468,95.91878379757168,95.2396694214876,94.50831547801243,93.7247219671462,92.88888888888889,92.00081624324048,91.06050403020099,90.06795224977041,89.02316090194878,87.92612998673603,86.77685950413222,85.57534945413731,84.32159983675135,83.01561065197426,81.65738189980611,80.24691358024691,78.78420569329661,77.26925823895522,75.70207121722272,74.08264462809915,72.41097847158453,70.68707274767878,68.910927456382,67.0825425976941,65.20191817161515,63.26905417814506,61.28395061728393,59.246607489031696,57.15702479338841,55.015202530354046,52.82114069992856,50.57483930211202,48.27629833690437,45.92551780430566,43.52249770431588,41.06723803693499,38.55973880216303,36.0,0.0,2.559738802163047,5.0672380369350085,7.522497704315881,9.925517804305679,12.276298336904397,14.574839302112032,16.82114069992858,19.015202530354053,21.157024793388437,23.24660748903173,25.283950617283946,27.26905417814509,29.201918171615137,31.082542597694115,32.910927456382,34.687072747678805,36.41097847158453,38.08264462809918,39.70207121722274,41.26925823895521,42.7842056932966,44.24691358024692,45.657381899806154,47.01561065197429,48.32159983675135,49.57534945413733,50.77685950413223,51.92612998673605,53.023160901948785,54.06795224977043,55.060504030201,56.000816243240486,56.888888888888886,57.724721967146216,58.50831547801245,59.239669421487605,59.91878379757168,60.54565860626467,61.120293847566586,61.6426895214774,62.11284562799714,62.53076216712579,62.89643913886339,63.20987654320989,63.47107438016529,63.680032649729625,63.836751351902876,63.94123048668503,63.99347005407611,63.99347005407611,63.94123048668503,63.836751351902876,63.680032649729625,63.47107438016529,63.20987654320987,62.89643913886338,62.53076216712579,62.11284562799714,61.6426895214774,61.12029384756657,60.54565860626466,59.91878379757168,59.239669421487605,58.50831547801245,57.7247219671462,56.888888888888886,56.000816243240486,55.06050403020099,54.06795224977043,53.02316090194877,51.926129986736036,50.77685950413223,49.57534945413732,48.32159983675135,47.015610651974264,45.65738189980613,44.24691358024692,42.78420569329659,41.2692582389552,39.702071217222716,38.08264462809915,36.41097847158452,34.6870727476788,32.910927456382,31.082542597694097,29.201918171615137,27.269054178145073,25.28395061728394,23.246607489031707,21.15702479338842,19.01520253035404,16.82114069992856,14.574839302112018,12.276298336904368,9.925517804305665,7.522497704315881,5.067238036934981,2.5597388021630327,0.0,0.0,2.559738802163047,5.0672380369350085,7.522497704315881,9.925517804305679,12.276298336904397,14.574839302112032,16.82114069992858,19.015202530354053,21.157024793388437,23.24660748903173,25.283950617283946,27.26905417814509,29.201918171615137,31.082542597694115,32.910927456382,34.687072747678805,36.41097847158453,38.08264462809918,39.70207121722274,41.26925823895521,42.7842056932966,44.24691358024692,45.657381899806154,47.01561065197429,48.32159983675135,49.57534945413733,50.77685950413223,51.92612998673605,53.023160901948785,54.06795224977043,55.060504030201,56.000816243240486,56.888888888888886,57.724721967146216,58.50831547801245,59.239669421487605,59.91878379757168,60.54565860626467,61.120293847566586,61.6426895214774,62.11284562799714,62.53076216712579,62.89643913886339,63.20987654320989,63.47107438016529,63.680032649729625,63.836751351902876,63.94123048668503,63.99347005407611,63.99347005407611,63.94123048668503,63.836751351902876,63.680032649729625,63.47107438016529,63.20987654320987,62.89643913886338,62.53076216712579,62.11284562799714,61.6426895214774,61.12029384756657,60.54565860626466,59.91878379757168,59.239669421487605,58.50831547801245,57.7247219671462,56.888888888888886,56.000816243240486,55.06050403020099,54.06795224977043,53.02316090194877,51.926129986736036,50.77685950413223,49.57534945413732,48.32159983675135,47.015610651974264,45.65738189980613,44.24691358024692,42.78420569329659,41.2692582389552,39.702071217222716,38.08264462809915,36.41097847158452,34.6870727476788,32.910927456382,31.082542597694097,29.201918171615137,27.269054178145073,25.28395061728394,23.246607489031707,21.15702479338842,19.01520253035404,16.82114069992856,14.574839302112018,12.276298336904368,9.925517804305665,7.522497704315881,5.067238036934981,2.5597388021630327,0.0],\"y\":[64.0,61.44026119783695,58.93276196306499,56.47750229568412,54.07448219569432,51.7237016630956,49.42516069788797,47.178859300071416,44.98479746964595,42.84297520661156,40.75339251096827,38.71604938271605,36.73094582185491,34.79808182838486,32.917457402305885,31.089072543618002,29.312927252321185,27.58902152841547,25.917355371900825,24.297928782777266,22.730741761044786,21.215794306703394,19.75308641975309,18.34261810019385,16.98438934802571,15.678400163248646,14.424650545862663,13.223140495867764,12.073870013263948,10.976839098051219,9.932047750229568,8.939495969798998,7.999183756759511,7.111111111111108,6.2752780328537865,5.4916845219875485,4.760330578512396,4.0812162024283225,3.4543413937353313,2.879706152433423,2.3573104785225976,1.8871543720028543,1.469237832874196,1.1035608611366179,0.7901234567901225,0.5289256198347098,0.31996735027037965,0.1632486480971322,0.058769513314967756,0.006529945923885259,0.006529945923885402,0.058769513314968616,0.1632486480971336,0.3199673502703807,0.5289256198347124,0.7901234567901242,1.1035608611366217,1.4692378328741982,1.8871543720028567,2.357310478522603,2.879706152433426,3.454341393735338,4.081216202428326,4.760330578512404,5.4916845219875565,6.275278032853791,7.111111111111118,7.999183756759517,8.939495969799008,9.932047750229573,10.976839098051231,12.07387001326396,13.22314049586777,14.424650545862677,15.678400163248654,16.984389348025726,18.342618100193867,19.75308641975309,21.21579430670341,22.730741761044797,24.297928782777284,25.917355371900836,27.589021528415486,29.312927252321202,31.089072543618002,32.91745740230591,34.798081828384866,36.73094582185493,38.716049382716065,40.7533925109683,42.842975206611584,44.98479746964596,47.178859300071444,49.42516069788798,51.72370166309563,54.07448219569434,56.47750229568412,58.93276196306502,61.44026119783697,64.0,64.0,61.44026119783695,58.93276196306499,56.47750229568412,54.07448219569432,51.7237016630956,49.42516069788797,47.178859300071416,44.98479746964595,42.84297520661156,40.75339251096827,38.71604938271605,36.73094582185491,34.79808182838486,32.917457402305885,31.089072543618002,29.312927252321185,27.58902152841547,25.917355371900825,24.297928782777266,22.730741761044786,21.215794306703394,19.75308641975309,18.34261810019385,16.98438934802571,15.678400163248646,14.424650545862663,13.223140495867764,12.073870013263948,10.976839098051219,9.932047750229568,8.939495969798998,7.999183756759511,7.111111111111108,6.2752780328537865,5.4916845219875485,4.760330578512396,4.0812162024283225,3.4543413937353313,2.879706152433423,2.3573104785225976,1.8871543720028543,1.469237832874196,1.1035608611366179,0.7901234567901225,0.5289256198347098,0.31996735027037965,0.1632486480971322,0.058769513314967756,0.006529945923885259,0.006529945923885402,0.058769513314968616,0.1632486480971336,0.3199673502703807,0.5289256198347124,0.7901234567901242,1.1035608611366217,1.4692378328741982,1.8871543720028567,2.357310478522603,2.879706152433426,3.454341393735338,4.081216202428326,4.760330578512404,5.4916845219875565,6.275278032853791,7.111111111111118,7.999183756759517,8.939495969799008,9.932047750229573,10.976839098051231,12.07387001326396,13.22314049586777,14.424650545862677,15.678400163248654,16.984389348025726,18.342618100193867,19.75308641975309,21.21579430670341,22.730741761044797,24.297928782777284,25.917355371900836,27.589021528415486,29.312927252321202,31.089072543618002,32.91745740230591,34.798081828384866,36.73094582185493,38.716049382716065,40.7533925109683,42.842975206611584,44.98479746964596,47.178859300071444,49.42516069788798,51.72370166309563,54.07448219569434,56.47750229568412,58.93276196306502,61.44026119783697,64.0,64.0,61.44026119783695,58.93276196306499,56.47750229568412,54.07448219569432,51.7237016630956,49.42516069788797,47.178859300071416,44.98479746964595,42.84297520661156,40.75339251096827,38.71604938271605,36.73094582185491,34.79808182838486,32.917457402305885,31.089072543618002,29.312927252321185,27.58902152841547,25.917355371900825,24.297928782777266,22.730741761044786,21.215794306703394,19.75308641975309,18.34261810019385,16.98438934802571,15.678400163248646,14.424650545862663,13.223140495867764,12.073870013263948,10.976839098051219,9.932047750229568,8.939495969798998,7.999183756759511,7.111111111111108,6.2752780328537865,5.4916845219875485,4.760330578512396,4.0812162024283225,3.4543413937353313,2.879706152433423,2.3573104785225976,1.8871543720028543,1.469237832874196,1.1035608611366179,0.7901234567901225,0.5289256198347098,0.31996735027037965,0.1632486480971322,0.058769513314967756,0.006529945923885259,0.006529945923885402,0.058769513314968616,0.1632486480971336,0.3199673502703807,0.5289256198347124,0.7901234567901242,1.1035608611366217,1.4692378328741982,1.8871543720028567,2.357310478522603,2.879706152433426,3.454341393735338,4.081216202428326,4.760330578512404,5.4916845219875565,6.275278032853791,7.111111111111118,7.999183756759517,8.939495969799008,9.932047750229573,10.976839098051231,12.07387001326396,13.22314049586777,14.424650545862677,15.678400163248654,16.984389348025726,18.342618100193867,19.75308641975309,21.21579430670341,22.730741761044797,24.297928782777284,25.917355371900836,27.589021528415486,29.312927252321202,31.089072543618002,32.91745740230591,34.798081828384866,36.73094582185493,38.716049382716065,40.7533925109683,42.842975206611584,44.98479746964596,47.178859300071444,49.42516069788798,51.72370166309563,54.07448219569434,56.47750229568412,58.93276196306502,61.44026119783697,64.0,64.0,61.44026119783695,58.93276196306499,56.47750229568412,54.07448219569432,51.7237016630956,49.42516069788797,47.178859300071416,44.98479746964595,42.84297520661156,40.75339251096827,38.71604938271605,36.73094582185491,34.79808182838486,32.917457402305885,31.089072543618002,29.312927252321185,27.58902152841547,25.917355371900825,24.297928782777266,22.730741761044786,21.215794306703394,19.75308641975309,18.34261810019385,16.98438934802571,15.678400163248646,14.424650545862663,13.223140495867764,12.073870013263948,10.976839098051219,9.932047750229568,8.939495969798998,7.999183756759511,7.111111111111108,6.2752780328537865,5.4916845219875485,4.760330578512396,4.0812162024283225,3.4543413937353313,2.879706152433423,2.3573104785225976,1.8871543720028543,1.469237832874196,1.1035608611366179,0.7901234567901225,0.5289256198347098,0.31996735027037965,0.1632486480971322,0.058769513314967756,0.006529945923885259,0.006529945923885402,0.058769513314968616,0.1632486480971336,0.3199673502703807,0.5289256198347124,0.7901234567901242,1.1035608611366217,1.4692378328741982,1.8871543720028567,2.357310478522603,2.879706152433426,3.454341393735338,4.081216202428326,4.760330578512404,5.4916845219875565,6.275278032853791,7.111111111111118,7.999183756759517,8.939495969799008,9.932047750229573,10.976839098051231,12.07387001326396,13.22314049586777,14.424650545862677,15.678400163248654,16.984389348025726,18.342618100193867,19.75308641975309,21.21579430670341,22.730741761044797,24.297928782777284,25.917355371900836,27.589021528415486,29.312927252321202,31.089072543618002,32.91745740230591,34.798081828384866,36.73094582185493,38.716049382716065,40.7533925109683,42.842975206611584,44.98479746964596,47.178859300071444,49.42516069788798,51.72370166309563,54.07448219569434,56.47750229568412,58.93276196306502,61.44026119783697,64.0],\"z\":[-48.0,-48.67361116380483,-49.195586831658176,-49.57864423327253,-49.83370942280907,-49.970279692799814,-49.996695488569515,-49.92034820743147,-49.74784159719425,-49.485118935967236,-49.13756455039039,-48.71008579818657,-48.20717997578214,-47.63298944957704,-46.99134748438233,-46.285816647645504,-45.51972123302431,-44.696174824543704,-43.8181038808925,-42.88826803619856,-41.909277673292976,-40.88360921697094,-39.8136185101163,-38.70155256898392,-37.54955996116655,-36.359700007644584,-35.13395097645596,-33.874217408130896,-32.582336690747034,-31.26008498421935,-29.909182578434276,-28.531298757432115,-27.128056231539077,-25.701035190757256,-24.251777025524568,-22.7817877549089,-21.292541197201416,-19.785481913561487,-18.262027951710614,-16.72357341356743,-15.171490868075798,-13.607133628230303,-12.031837909391514,-10.446924884358518,-8.85370264928986,-7.253468113402957,-5.647508824410894,-4.03710474085175,-2.423529961812211,-0.8080544240301868,0.8080544240301957,2.423529961812229,4.037104740851768,5.647508824410903,7.253468113402975,8.853702649289868,10.446924884358534,12.031837909391523,13.607133628230311,15.171490868075812,16.723573413567436,18.262027951710632,19.785481913561497,21.29254119720143,22.78178775490892,24.251777025524575,25.701035190757274,27.12805623153908,28.53129875743213,29.909182578434283,31.260084984219368,32.58233669074705,33.8742174081309,35.133950976455964,36.35970000764459,37.54955996116656,38.70155256898393,39.8136185101163,40.88360921697095,41.90927767329298,42.88826803619857,43.818103880892494,44.69617482454372,45.51972123302432,46.285816647645504,46.991347484382345,47.632989449577046,48.20717997578215,48.71008579818657,49.137564550390394,49.485118935967236,49.74784159719425,49.92034820743147,49.996695488569515,49.970279692799814,49.83370942280907,49.57864423327253,49.19558683165817,48.67361116380483,48.0,-48.0,-48.67361116380483,-49.195586831658176,-49.57864423327253,-49.83370942280907,-49.970279692799814,-49.996695488569515,-49.92034820743147,-49.74784159719425,-49.485118935967236,-49.13756455039039,-48.71008579818657,-48.20717997578214,-47.63298944957704,-46.99134748438233,-46.285816647645504,-45.51972123302431,-44.696174824543704,-43.8181038808925,-42.88826803619856,-41.909277673292976,-40.88360921697094,-39.8136185101163,-38.70155256898392,-37.54955996116655,-36.359700007644584,-35.13395097645596,-33.874217408130896,-32.582336690747034,-31.26008498421935,-29.909182578434276,-28.531298757432115,-27.128056231539077,-25.701035190757256,-24.251777025524568,-22.7817877549089,-21.292541197201416,-19.785481913561487,-18.262027951710614,-16.72357341356743,-15.171490868075798,-13.607133628230303,-12.031837909391514,-10.446924884358518,-8.85370264928986,-7.253468113402957,-5.647508824410894,-4.03710474085175,-2.423529961812211,-0.8080544240301868,0.8080544240301957,2.423529961812229,4.037104740851768,5.647508824410903,7.253468113402975,8.853702649289868,10.446924884358534,12.031837909391523,13.607133628230311,15.171490868075812,16.723573413567436,18.262027951710632,19.785481913561497,21.29254119720143,22.78178775490892,24.251777025524575,25.701035190757274,27.12805623153908,28.53129875743213,29.909182578434283,31.260084984219368,32.58233669074705,33.8742174081309,35.133950976455964,36.35970000764459,37.54955996116656,38.70155256898393,39.8136185101163,40.88360921697095,41.90927767329298,42.88826803619857,43.818103880892494,44.69617482454372,45.51972123302432,46.285816647645504,46.991347484382345,47.632989449577046,48.20717997578215,48.71008579818657,49.137564550390394,49.485118935967236,49.74784159719425,49.92034820743147,49.996695488569515,49.970279692799814,49.83370942280907,49.57864423327253,49.19558683165817,48.67361116380483,48.0,-0.0,-12.540774322311039,-17.280808228809196,-20.611935410455242,-23.167158561031485,-25.19872204507998,-26.83959341444614,-28.170946564654788,-29.247137204729565,-30.10697408689234,-30.779508110899446,-31.28729263916773,-31.648351483618757,-31.8774330535202,-31.986845294823215,-31.987031921846224,-31.88698229761922,-31.694530583733492,-31.416578972387434,-31.059267521382875,-30.628105584569884,-30.128075072341893,-29.563712685621265,-28.939176208780502,-28.25829854659187,-27.52463221859573,-26.741486337990906,-25.911957609607168,-25.03895652282056,-24.125229650529178,-23.17337876749638,-22.1858773518895,-21.165084919702153,-20.11325955375068,-19.032568920485357,-17.92510001417469,-16.792867825600045,-15.637823098642892,-14.461859311118603,-13.26681899444536,-12.054499489124124,-10.826658218693947,-9.58501755316075,-8.331269323369098,-7.0670790399993315,-5.794089864517455,-4.51392637424064,-3.2281981595173055,-1.938503287710046,-0.6464316660985039,0.646431666098511,1.9385032877100603,3.2281981595173197,4.513926374240647,5.794089864517469,7.067079039999339,8.33126932336911,9.585017553160757,10.826658218693954,12.054499489124138,13.266818994445366,14.461859311118616,15.6378230986429,16.79286782560006,17.925100014174703,19.03256892048536,20.113259553750694,21.16508491970216,22.18587735188951,23.173378767496388,24.12522965052919,25.03895652282057,25.911957609607175,26.741486337990917,27.524632218595737,28.258298546591877,28.939176208780506,29.563712685621265,30.1280750723419,30.628105584569884,31.05926752138288,31.41657897238743,31.6945305837335,31.886982297619227,31.987031921846224,31.986845294823215,31.877433053520207,31.648351483618757,31.28729263916773,30.779508110899435,30.106974086892336,29.247137204729555,28.170946564654777,26.839593414446128,25.198722045079958,23.16715856103147,20.611935410455242,17.28080822880915,12.540774322311005,0.0,-0.0,-12.540774322311039,-17.280808228809196,-20.611935410455242,-23.167158561031485,-25.19872204507998,-26.83959341444614,-28.170946564654788,-29.247137204729565,-30.10697408689234,-30.779508110899446,-31.28729263916773,-31.648351483618757,-31.8774330535202,-31.986845294823215,-31.987031921846224,-31.88698229761922,-31.694530583733492,-31.416578972387434,-31.059267521382875,-30.628105584569884,-30.128075072341893,-29.563712685621265,-28.939176208780502,-28.25829854659187,-27.52463221859573,-26.741486337990906,-25.911957609607168,-25.03895652282056,-24.125229650529178,-23.17337876749638,-22.1858773518895,-21.165084919702153,-20.11325955375068,-19.032568920485357,-17.92510001417469,-16.792867825600045,-15.637823098642892,-14.461859311118603,-13.26681899444536,-12.054499489124124,-10.826658218693947,-9.58501755316075,-8.331269323369098,-7.0670790399993315,-5.794089864517455,-4.51392637424064,-3.2281981595173055,-1.938503287710046,-0.6464316660985039,0.646431666098511,1.9385032877100603,3.2281981595173197,4.513926374240647,5.794089864517469,7.067079039999339,8.33126932336911,9.585017553160757,10.826658218693954,12.054499489124138,13.266818994445366,14.461859311118616,15.6378230986429,16.79286782560006,17.925100014174703,19.03256892048536,20.113259553750694,21.16508491970216,22.18587735188951,23.173378767496388,24.12522965052919,25.03895652282057,25.911957609607175,26.741486337990917,27.524632218595737,28.258298546591877,28.939176208780506,29.563712685621265,30.1280750723419,30.628105584569884,31.05926752138288,31.41657897238743,31.6945305837335,31.886982297619227,31.987031921846224,31.986845294823215,31.877433053520207,31.648351483618757,31.28729263916773,30.779508110899435,30.106974086892336,29.247137204729555,28.170946564654777,26.839593414446128,25.198722045079958,23.16715856103147,20.611935410455242,17.28080822880915,12.540774322311005,0.0],\"type\":\"scatter3d\"}],                        {\"template\":{\"data\":{\"histogram2dcontour\":[{\"type\":\"histogram2dcontour\",\"colorbar\":{\"outlinewidth\":0,\"ticks\":\"\"},\"colorscale\":[[0.0,\"#0d0887\"],[0.1111111111111111,\"#46039f\"],[0.2222222222222222,\"#7201a8\"],[0.3333333333333333,\"#9c179e\"],[0.4444444444444444,\"#bd3786\"],[0.5555555555555556,\"#d8576b\"],[0.6666666666666666,\"#ed7953\"],[0.7777777777777778,\"#fb9f3a\"],[0.8888888888888888,\"#fdca26\"],[1.0,\"#f0f921\"]]}],\"choropleth\":[{\"type\":\"choropleth\",\"colorbar\":{\"outlinewidth\":0,\"ticks\":\"\"}}],\"histogram2d\":[{\"type\":\"histogram2d\",\"colorbar\":{\"outlinewidth\":0,\"ticks\":\"\"},\"colorscale\":[[0.0,\"#0d0887\"],[0.1111111111111111,\"#46039f\"],[0.2222222222222222,\"#7201a8\"],[0.3333333333333333,\"#9c179e\"],[0.4444444444444444,\"#bd3786\"],[0.5555555555555556,\"#d8576b\"],[0.6666666666666666,\"#ed7953\"],[0.7777777777777778,\"#fb9f3a\"],[0.8888888888888888,\"#fdca26\"],[1.0,\"#f0f921\"]]}],\"heatmap\":[{\"type\":\"heatmap\",\"colorbar\":{\"outlinewidth\":0,\"ticks\":\"\"},\"colorscale\":[[0.0,\"#0d0887\"],[0.1111111111111111,\"#46039f\"],[0.2222222222222222,\"#7201a8\"],[0.3333333333333333,\"#9c179e\"],[0.4444444444444444,\"#bd3786\"],[0.5555555555555556,\"#d8576b\"],[0.6666666666666666,\"#ed7953\"],[0.7777777777777778,\"#fb9f3a\"],[0.8888888888888888,\"#fdca26\"],[1.0,\"#f0f921\"]]}],\"heatmapgl\":[{\"type\":\"heatmapgl\",\"colorbar\":{\"outlinewidth\":0,\"ticks\":\"\"},\"colorscale\":[[0.0,\"#0d0887\"],[0.1111111111111111,\"#46039f\"],[0.2222222222222222,\"#7201a8\"],[0.3333333333333333,\"#9c179e\"],[0.4444444444444444,\"#bd3786\"],[0.5555555555555556,\"#d8576b\"],[0.6666666666666666,\"#ed7953\"],[0.7777777777777778,\"#fb9f3a\"],[0.8888888888888888,\"#fdca26\"],[1.0,\"#f0f921\"]]}],\"contourcarpet\":[{\"type\":\"contourcarpet\",\"colorbar\":{\"outlinewidth\":0,\"ticks\":\"\"}}],\"contour\":[{\"type\":\"contour\",\"colorbar\":{\"outlinewidth\":0,\"ticks\":\"\"},\"colorscale\":[[0.0,\"#0d0887\"],[0.1111111111111111,\"#46039f\"],[0.2222222222222222,\"#7201a8\"],[0.3333333333333333,\"#9c179e\"],[0.4444444444444444,\"#bd3786\"],[0.5555555555555556,\"#d8576b\"],[0.6666666666666666,\"#ed7953\"],[0.7777777777777778,\"#fb9f3a\"],[0.8888888888888888,\"#fdca26\"],[1.0,\"#f0f921\"]]}],\"surface\":[{\"type\":\"surface\",\"colorbar\":{\"outlinewidth\":0,\"ticks\":\"\"},\"colorscale\":[[0.0,\"#0d0887\"],[0.1111111111111111,\"#46039f\"],[0.2222222222222222,\"#7201a8\"],[0.3333333333333333,\"#9c179e\"],[0.4444444444444444,\"#bd3786\"],[0.5555555555555556,\"#d8576b\"],[0.6666666666666666,\"#ed7953\"],[0.7777777777777778,\"#fb9f3a\"],[0.8888888888888888,\"#fdca26\"],[1.0,\"#f0f921\"]]}],\"mesh3d\":[{\"type\":\"mesh3d\",\"colorbar\":{\"outlinewidth\":0,\"ticks\":\"\"}}],\"scatter\":[{\"fillpattern\":{\"fillmode\":\"overlay\",\"size\":10,\"solidity\":0.2},\"type\":\"scatter\"}],\"parcoords\":[{\"type\":\"parcoords\",\"line\":{\"colorbar\":{\"outlinewidth\":0,\"ticks\":\"\"}}}],\"scatterpolargl\":[{\"type\":\"scatterpolargl\",\"marker\":{\"colorbar\":{\"outlinewidth\":0,\"ticks\":\"\"}}}],\"bar\":[{\"error_x\":{\"color\":\"#2a3f5f\"},\"error_y\":{\"color\":\"#2a3f5f\"},\"marker\":{\"line\":{\"color\":\"#E5ECF6\",\"width\":0.5},\"pattern\":{\"fillmode\":\"overlay\",\"size\":10,\"solidity\":0.2}},\"type\":\"bar\"}],\"scattergeo\":[{\"type\":\"scattergeo\",\"marker\":{\"colorbar\":{\"outlinewidth\":0,\"ticks\":\"\"}}}],\"scatterpolar\":[{\"type\":\"scatterpolar\",\"marker\":{\"colorbar\":{\"outlinewidth\":0,\"ticks\":\"\"}}}],\"histogram\":[{\"marker\":{\"pattern\":{\"fillmode\":\"overlay\",\"size\":10,\"solidity\":0.2}},\"type\":\"histogram\"}],\"scattergl\":[{\"type\":\"scattergl\",\"marker\":{\"colorbar\":{\"outlinewidth\":0,\"ticks\":\"\"}}}],\"scatter3d\":[{\"type\":\"scatter3d\",\"line\":{\"colorbar\":{\"outlinewidth\":0,\"ticks\":\"\"}},\"marker\":{\"colorbar\":{\"outlinewidth\":0,\"ticks\":\"\"}}}],\"scattermapbox\":[{\"type\":\"scattermapbox\",\"marker\":{\"colorbar\":{\"outlinewidth\":0,\"ticks\":\"\"}}}],\"scatterternary\":[{\"type\":\"scatterternary\",\"marker\":{\"colorbar\":{\"outlinewidth\":0,\"ticks\":\"\"}}}],\"scattercarpet\":[{\"type\":\"scattercarpet\",\"marker\":{\"colorbar\":{\"outlinewidth\":0,\"ticks\":\"\"}}}],\"carpet\":[{\"aaxis\":{\"endlinecolor\":\"#2a3f5f\",\"gridcolor\":\"white\",\"linecolor\":\"white\",\"minorgridcolor\":\"white\",\"startlinecolor\":\"#2a3f5f\"},\"baxis\":{\"endlinecolor\":\"#2a3f5f\",\"gridcolor\":\"white\",\"linecolor\":\"white\",\"minorgridcolor\":\"white\",\"startlinecolor\":\"#2a3f5f\"},\"type\":\"carpet\"}],\"table\":[{\"cells\":{\"fill\":{\"color\":\"#EBF0F8\"},\"line\":{\"color\":\"white\"}},\"header\":{\"fill\":{\"color\":\"#C8D4E3\"},\"line\":{\"color\":\"white\"}},\"type\":\"table\"}],\"barpolar\":[{\"marker\":{\"line\":{\"color\":\"#E5ECF6\",\"width\":0.5},\"pattern\":{\"fillmode\":\"overlay\",\"size\":10,\"solidity\":0.2}},\"type\":\"barpolar\"}],\"pie\":[{\"automargin\":true,\"type\":\"pie\"}]},\"layout\":{\"autotypenumbers\":\"strict\",\"colorway\":[\"#636efa\",\"#EF553B\",\"#00cc96\",\"#ab63fa\",\"#FFA15A\",\"#19d3f3\",\"#FF6692\",\"#B6E880\",\"#FF97FF\",\"#FECB52\"],\"font\":{\"color\":\"#2a3f5f\"},\"hovermode\":\"closest\",\"hoverlabel\":{\"align\":\"left\"},\"paper_bgcolor\":\"white\",\"plot_bgcolor\":\"#E5ECF6\",\"polar\":{\"bgcolor\":\"#E5ECF6\",\"angularaxis\":{\"gridcolor\":\"white\",\"linecolor\":\"white\",\"ticks\":\"\"},\"radialaxis\":{\"gridcolor\":\"white\",\"linecolor\":\"white\",\"ticks\":\"\"}},\"ternary\":{\"bgcolor\":\"#E5ECF6\",\"aaxis\":{\"gridcolor\":\"white\",\"linecolor\":\"white\",\"ticks\":\"\"},\"baxis\":{\"gridcolor\":\"white\",\"linecolor\":\"white\",\"ticks\":\"\"},\"caxis\":{\"gridcolor\":\"white\",\"linecolor\":\"white\",\"ticks\":\"\"}},\"coloraxis\":{\"colorbar\":{\"outlinewidth\":0,\"ticks\":\"\"}},\"colorscale\":{\"sequential\":[[0.0,\"#0d0887\"],[0.1111111111111111,\"#46039f\"],[0.2222222222222222,\"#7201a8\"],[0.3333333333333333,\"#9c179e\"],[0.4444444444444444,\"#bd3786\"],[0.5555555555555556,\"#d8576b\"],[0.6666666666666666,\"#ed7953\"],[0.7777777777777778,\"#fb9f3a\"],[0.8888888888888888,\"#fdca26\"],[1.0,\"#f0f921\"]],\"sequentialminus\":[[0.0,\"#0d0887\"],[0.1111111111111111,\"#46039f\"],[0.2222222222222222,\"#7201a8\"],[0.3333333333333333,\"#9c179e\"],[0.4444444444444444,\"#bd3786\"],[0.5555555555555556,\"#d8576b\"],[0.6666666666666666,\"#ed7953\"],[0.7777777777777778,\"#fb9f3a\"],[0.8888888888888888,\"#fdca26\"],[1.0,\"#f0f921\"]],\"diverging\":[[0,\"#8e0152\"],[0.1,\"#c51b7d\"],[0.2,\"#de77ae\"],[0.3,\"#f1b6da\"],[0.4,\"#fde0ef\"],[0.5,\"#f7f7f7\"],[0.6,\"#e6f5d0\"],[0.7,\"#b8e186\"],[0.8,\"#7fbc41\"],[0.9,\"#4d9221\"],[1,\"#276419\"]]},\"xaxis\":{\"gridcolor\":\"white\",\"linecolor\":\"white\",\"ticks\":\"\",\"title\":{\"standoff\":15},\"zerolinecolor\":\"white\",\"automargin\":true,\"zerolinewidth\":2},\"yaxis\":{\"gridcolor\":\"white\",\"linecolor\":\"white\",\"ticks\":\"\",\"title\":{\"standoff\":15},\"zerolinecolor\":\"white\",\"automargin\":true,\"zerolinewidth\":2},\"scene\":{\"xaxis\":{\"backgroundcolor\":\"#E5ECF6\",\"gridcolor\":\"white\",\"linecolor\":\"white\",\"showbackground\":true,\"ticks\":\"\",\"zerolinecolor\":\"white\",\"gridwidth\":2},\"yaxis\":{\"backgroundcolor\":\"#E5ECF6\",\"gridcolor\":\"white\",\"linecolor\":\"white\",\"showbackground\":true,\"ticks\":\"\",\"zerolinecolor\":\"white\",\"gridwidth\":2},\"zaxis\":{\"backgroundcolor\":\"#E5ECF6\",\"gridcolor\":\"white\",\"linecolor\":\"white\",\"showbackground\":true,\"ticks\":\"\",\"zerolinecolor\":\"white\",\"gridwidth\":2}},\"shapedefaults\":{\"line\":{\"color\":\"#2a3f5f\"}},\"annotationdefaults\":{\"arrowcolor\":\"#2a3f5f\",\"arrowhead\":0,\"arrowwidth\":1},\"geo\":{\"bgcolor\":\"white\",\"landcolor\":\"#E5ECF6\",\"subunitcolor\":\"white\",\"showland\":true,\"showlakes\":true,\"lakecolor\":\"white\"},\"title\":{\"x\":0.05},\"mapbox\":{\"style\":\"light\"}}},\"scene\":{\"domain\":{\"x\":[0.0,1.0],\"y\":[0.0,1.0]},\"xaxis\":{\"title\":{\"text\":\"X1_square\"}},\"yaxis\":{\"title\":{\"text\":\"X2_square\"}},\"zaxis\":{\"title\":{\"text\":\"X1*X2\"}}},\"coloraxis\":{\"colorbar\":{\"title\":{\"text\":\"Y\"}},\"colorscale\":[[0.0,\"#0d0887\"],[0.1111111111111111,\"#46039f\"],[0.2222222222222222,\"#7201a8\"],[0.3333333333333333,\"#9c179e\"],[0.4444444444444444,\"#bd3786\"],[0.5555555555555556,\"#d8576b\"],[0.6666666666666666,\"#ed7953\"],[0.7777777777777778,\"#fb9f3a\"],[0.8888888888888888,\"#fdca26\"],[1.0,\"#f0f921\"]]},\"legend\":{\"tracegroupgap\":0},\"margin\":{\"t\":60}},                        {\"responsive\": true}                    ).then(function(){\n",
       "                            \n",
       "var gd = document.getElementById('acc7288b-0411-4228-9e50-b9fc982fdf74');\n",
       "var x = new MutationObserver(function (mutations, observer) {{\n",
       "        var display = window.getComputedStyle(gd).display;\n",
       "        if (!display || display === 'none') {{\n",
       "            console.log([gd, 'removed!']);\n",
       "            Plotly.purge(gd);\n",
       "            observer.disconnect();\n",
       "        }}\n",
       "}});\n",
       "\n",
       "// Listen for the removal of the full notebook cells\n",
       "var notebookContainer = gd.closest('#notebook-container');\n",
       "if (notebookContainer) {{\n",
       "    x.observe(notebookContainer, {childList: true});\n",
       "}}\n",
       "\n",
       "// Listen for the clearing of the current output cell\n",
       "var outputEl = gd.closest('.output');\n",
       "if (outputEl) {{\n",
       "    x.observe(outputEl, {childList: true});\n",
       "}}\n",
       "\n",
       "                        })                };                });            </script>        </div>"
      ]
     },
     "metadata": {},
     "output_type": "display_data"
    }
   ],
   "source": [
    "import plotly.express as px\n",
    "fig=px.scatter_3d(df,x='X1_square',y='X2_square',z='X1*X2',color='Y')\n",
    "fig.show()\n",
    "plt.show()"
   ]
  },
  {
   "cell_type": "code",
   "execution_count": 44,
   "id": "da69408a-917f-4b00-bfa4-3016324ac99c",
   "metadata": {},
   "outputs": [
    {
     "data": {
      "text/plain": [
       "1.0"
      ]
     },
     "execution_count": 44,
     "metadata": {},
     "output_type": "execute_result"
    }
   ],
   "source": [
    "from sklearn.metrics import accuracy_score\n",
    "from sklearn.svm import SVC\n",
    "classifier = SVC(kernel=\"poly\")\n",
    "classifier.fit(X_train, y_train)\n",
    "y_pred = classifier.predict(X_test)\n",
    "accuracy_score(y_test, y_pred)"
   ]
  },
  {
   "cell_type": "code",
   "execution_count": 49,
   "id": "8a8a3c31-f995-4989-8062-9339d7a8265a",
   "metadata": {},
   "outputs": [
    {
     "data": {
      "text/plain": [
       "1.0"
      ]
     },
     "execution_count": 49,
     "metadata": {},
     "output_type": "execute_result"
    }
   ],
   "source": [
    "classifier = SVC(kernel=\"linear\")\n",
    "classifier.fit(X_train, y_train)\n",
    "y_pred = classifier.predict(X_test)\n",
    "accuracy_score(y_test, y_pred)"
   ]
  },
  {
   "cell_type": "markdown",
   "id": "5c684d64-6574-4eef-ba10-2db74c17c576",
   "metadata": {},
   "source": [
    "## RBF kernel"
   ]
  },
  {
   "cell_type": "code",
   "execution_count": 31,
   "id": "d49583fa-3e79-4bc5-a590-10ec5040ef2d",
   "metadata": {},
   "outputs": [
    {
     "data": {
      "text/html": [
       "<div>\n",
       "<style scoped>\n",
       "    .dataframe tbody tr th:only-of-type {\n",
       "        vertical-align: middle;\n",
       "    }\n",
       "\n",
       "    .dataframe tbody tr th {\n",
       "        vertical-align: top;\n",
       "    }\n",
       "\n",
       "    .dataframe thead th {\n",
       "        text-align: right;\n",
       "    }\n",
       "</style>\n",
       "<table border=\"1\" class=\"dataframe\">\n",
       "  <thead>\n",
       "    <tr style=\"text-align: right;\">\n",
       "      <th></th>\n",
       "      <th>X1</th>\n",
       "      <th>X2</th>\n",
       "      <th>Y</th>\n",
       "      <th>X1_square</th>\n",
       "      <th>X2_square</th>\n",
       "      <th>X1*X2</th>\n",
       "    </tr>\n",
       "  </thead>\n",
       "  <tbody>\n",
       "    <tr>\n",
       "      <th>0</th>\n",
       "      <td>6.000000</td>\n",
       "      <td>-8.000000</td>\n",
       "      <td>0</td>\n",
       "      <td>36.000000</td>\n",
       "      <td>64.000000</td>\n",
       "      <td>-48.000000</td>\n",
       "    </tr>\n",
       "    <tr>\n",
       "      <th>1</th>\n",
       "      <td>6.209649</td>\n",
       "      <td>-7.838384</td>\n",
       "      <td>0</td>\n",
       "      <td>38.559739</td>\n",
       "      <td>61.440261</td>\n",
       "      <td>-48.673611</td>\n",
       "    </tr>\n",
       "    <tr>\n",
       "      <th>2</th>\n",
       "      <td>6.408372</td>\n",
       "      <td>-7.676768</td>\n",
       "      <td>0</td>\n",
       "      <td>41.067238</td>\n",
       "      <td>58.932762</td>\n",
       "      <td>-49.195587</td>\n",
       "    </tr>\n",
       "    <tr>\n",
       "      <th>3</th>\n",
       "      <td>6.597158</td>\n",
       "      <td>-7.515152</td>\n",
       "      <td>0</td>\n",
       "      <td>43.522498</td>\n",
       "      <td>56.477502</td>\n",
       "      <td>-49.578644</td>\n",
       "    </tr>\n",
       "    <tr>\n",
       "      <th>4</th>\n",
       "      <td>6.776837</td>\n",
       "      <td>-7.353535</td>\n",
       "      <td>0</td>\n",
       "      <td>45.925518</td>\n",
       "      <td>54.074482</td>\n",
       "      <td>-49.833709</td>\n",
       "    </tr>\n",
       "  </tbody>\n",
       "</table>\n",
       "</div>"
      ],
      "text/plain": [
       "         X1        X2  Y  X1_square  X2_square      X1*X2\n",
       "0  6.000000 -8.000000  0  36.000000  64.000000 -48.000000\n",
       "1  6.209649 -7.838384  0  38.559739  61.440261 -48.673611\n",
       "2  6.408372 -7.676768  0  41.067238  58.932762 -49.195587\n",
       "3  6.597158 -7.515152  0  43.522498  56.477502 -49.578644\n",
       "4  6.776837 -7.353535  0  45.925518  54.074482 -49.833709"
      ]
     },
     "execution_count": 31,
     "metadata": {},
     "output_type": "execute_result"
    }
   ],
   "source": [
    "df.head()"
   ]
  },
  {
   "cell_type": "code",
   "execution_count": 32,
   "id": "0c9fc8cd-e801-4442-bdf0-f2ef9f583232",
   "metadata": {},
   "outputs": [],
   "source": [
    "## Indpeendent Features\n",
    "X=df.iloc[:,0:2]\n",
    "y=df.Y"
   ]
  },
  {
   "cell_type": "code",
   "execution_count": 33,
   "id": "2cb045b2-b4fb-458b-9d8d-831b061bca63",
   "metadata": {},
   "outputs": [
    {
     "data": {
      "text/html": [
       "<div>\n",
       "<style scoped>\n",
       "    .dataframe tbody tr th:only-of-type {\n",
       "        vertical-align: middle;\n",
       "    }\n",
       "\n",
       "    .dataframe tbody tr th {\n",
       "        vertical-align: top;\n",
       "    }\n",
       "\n",
       "    .dataframe thead th {\n",
       "        text-align: right;\n",
       "    }\n",
       "</style>\n",
       "<table border=\"1\" class=\"dataframe\">\n",
       "  <thead>\n",
       "    <tr style=\"text-align: right;\">\n",
       "      <th></th>\n",
       "      <th>X1</th>\n",
       "      <th>X2</th>\n",
       "    </tr>\n",
       "  </thead>\n",
       "  <tbody>\n",
       "    <tr>\n",
       "      <th>0</th>\n",
       "      <td>6.000000</td>\n",
       "      <td>-8.000000</td>\n",
       "    </tr>\n",
       "    <tr>\n",
       "      <th>1</th>\n",
       "      <td>6.209649</td>\n",
       "      <td>-7.838384</td>\n",
       "    </tr>\n",
       "    <tr>\n",
       "      <th>2</th>\n",
       "      <td>6.408372</td>\n",
       "      <td>-7.676768</td>\n",
       "    </tr>\n",
       "    <tr>\n",
       "      <th>3</th>\n",
       "      <td>6.597158</td>\n",
       "      <td>-7.515152</td>\n",
       "    </tr>\n",
       "    <tr>\n",
       "      <th>4</th>\n",
       "      <td>6.776837</td>\n",
       "      <td>-7.353535</td>\n",
       "    </tr>\n",
       "  </tbody>\n",
       "</table>\n",
       "</div>"
      ],
      "text/plain": [
       "         X1        X2\n",
       "0  6.000000 -8.000000\n",
       "1  6.209649 -7.838384\n",
       "2  6.408372 -7.676768\n",
       "3  6.597158 -7.515152\n",
       "4  6.776837 -7.353535"
      ]
     },
     "execution_count": 33,
     "metadata": {},
     "output_type": "execute_result"
    }
   ],
   "source": [
    "X.head()"
   ]
  },
  {
   "cell_type": "code",
   "execution_count": 40,
   "id": "f6d2dad6-3238-4ba2-87fb-81a54c23c34f",
   "metadata": {},
   "outputs": [
    {
     "data": {
      "text/plain": [
       "0      0\n",
       "1      0\n",
       "2      0\n",
       "3      0\n",
       "4      0\n",
       "      ..\n",
       "195    1\n",
       "196    1\n",
       "197    1\n",
       "198    1\n",
       "199    1\n",
       "Name: Y, Length: 400, dtype: int64"
      ]
     },
     "execution_count": 40,
     "metadata": {},
     "output_type": "execute_result"
    }
   ],
   "source": [
    "y"
   ]
  },
  {
   "cell_type": "code",
   "execution_count": 41,
   "id": "cf18a769-2c21-403f-9db4-b80416e74e56",
   "metadata": {},
   "outputs": [],
   "source": [
    "from sklearn.model_selection import train_test_split\n",
    "X_train, X_test, y_train, y_test = train_test_split(X, y,\n",
    "                                                    test_size = 0.25,\n",
    "                                                    random_state = 0)"
   ]
  },
  {
   "cell_type": "code",
   "execution_count": 42,
   "id": "69205376-76af-4214-9932-08840fd3ff06",
   "metadata": {},
   "outputs": [
    {
     "data": {
      "text/plain": [
       "1.0"
      ]
     },
     "execution_count": 42,
     "metadata": {},
     "output_type": "execute_result"
    }
   ],
   "source": [
    "classifier = SVC(kernel=\"rbf\")\n",
    "classifier.fit(X_train, y_train)\n",
    "y_pred = classifier.predict(X_test)\n",
    "accuracy_score(y_test, y_pred)"
   ]
  },
  {
   "cell_type": "code",
   "execution_count": 43,
   "id": "a0547078-7c66-4bb4-b921-ea5b41d0373c",
   "metadata": {},
   "outputs": [
    {
     "data": {
      "text/plain": [
       "1.0"
      ]
     },
     "execution_count": 43,
     "metadata": {},
     "output_type": "execute_result"
    }
   ],
   "source": [
    "classifier = SVC(kernel=\"poly\")\n",
    "classifier.fit(X_train, y_train)\n",
    "y_pred = classifier.predict(X_test)\n",
    "accuracy_score(y_test, y_pred)"
   ]
  },
  {
   "cell_type": "code",
   "execution_count": 45,
   "id": "c8f5fa14-2ace-4c30-9954-416264f42072",
   "metadata": {},
   "outputs": [
    {
     "data": {
      "text/plain": [
       "0.31"
      ]
     },
     "execution_count": 45,
     "metadata": {},
     "output_type": "execute_result"
    }
   ],
   "source": [
    "classifier = SVC(kernel=\"sigmoid\")\n",
    "classifier.fit(X_train, y_train)\n",
    "y_pred = classifier.predict(X_test)\n",
    "accuracy_score(y_test, y_pred)"
   ]
  },
  {
   "cell_type": "code",
   "execution_count": 48,
   "id": "fa4476cc-9175-4fea-9c4b-b57554be8987",
   "metadata": {},
   "outputs": [
    {
     "data": {
      "text/plain": [
       "1.0"
      ]
     },
     "execution_count": 48,
     "metadata": {},
     "output_type": "execute_result"
    }
   ],
   "source": [
    "classifier = SVC(kernel=\"linear\")\n",
    "classifier.fit(X_train, y_train)\n",
    "y_pred = classifier.predict(X_test)\n",
    "accuracy_score(y_test, y_pred)"
   ]
  },
  {
   "cell_type": "code",
   "execution_count": null,
   "id": "26f92a2d-e0c2-4b65-bf37-727d5363dd0a",
   "metadata": {},
   "outputs": [],
   "source": []
  }
 ],
 "metadata": {
  "kernelspec": {
   "display_name": "Python 3 (ipykernel)",
   "language": "python",
   "name": "python3"
  },
  "language_info": {
   "codemirror_mode": {
    "name": "ipython",
    "version": 3
   },
   "file_extension": ".py",
   "mimetype": "text/x-python",
   "name": "python",
   "nbconvert_exporter": "python",
   "pygments_lexer": "ipython3",
   "version": "3.10.8"
  }
 },
 "nbformat": 4,
 "nbformat_minor": 5
}
